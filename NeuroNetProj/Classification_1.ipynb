{
 "cells": [
  {
   "cell_type": "code",
   "execution_count": 1,
   "metadata": {},
   "outputs": [],
   "source": [
    "import numpy as np\n",
    "from sklearn import datasets\n",
    "from sklearn.neighbors import KNeighborsClassifier\n",
    "from sklearn.model_selection import train_test_split"
   ]
  },
  {
   "cell_type": "code",
   "execution_count": 3,
   "metadata": {},
   "outputs": [
    {
     "name": "stdout",
     "output_type": "stream",
     "text": [
      "Метка вида цветка: [0]\n",
      "Bид цветка: ['setosa']\n"
     ]
    }
   ],
   "source": [
    "knn = KNeighborsClassifier(n_neighbors=1)\n",
    "iris_dataset = datasets.load_iris()\n",
    "\n",
    "X_train, X_test, y_train, y_test = train_test_split(iris_dataset['data'],\\\n",
    "    iris_dataset['target'],random_state=0)\n",
    "z = knn.fit(X_train,y_train)\n",
    "X_new = np.array([[5,2.9,1,0.2]])\n",
    "pr = knn.predict(X_new)\n",
    "print('Метка вида цветка: {}'.format(pr))\n",
    "print(\"Bид цветка: {}\".format(iris_dataset['target_names'] [pr]))"
   ]
  },
  {
   "cell_type": "code",
   "execution_count": 4,
   "metadata": {},
   "outputs": [
    {
     "name": "stdout",
     "output_type": "stream",
     "text": [
      "Прогноз вида на тестовом наборе:\n",
      " [2 1 0 2 0 2 0 1 1 1 2 1 1 1 1 0 1 1 0 0 2 1 0 0 2 0 0 1 1 0 2 1 0 2 2 1 0\n",
      " 2]\n",
      "Точность прогноза на тестовом наборе: 0.97\n"
     ]
    }
   ],
   "source": [
    "pr = knn.predict(X_test)\n",
    "print('Прогноз вида на тестовом наборе:\\n {}'.format(pr))\n",
    "print(\"Точность прогноза на тестовом наборе: {:.2f}\".format(np.mean(pr == y_test)))"
   ]
  }
 ],
 "metadata": {
  "kernelspec": {
   "display_name": ".venv",
   "language": "python",
   "name": "python3"
  },
  "language_info": {
   "codemirror_mode": {
    "name": "ipython",
    "version": 3
   },
   "file_extension": ".py",
   "mimetype": "text/x-python",
   "name": "python",
   "nbconvert_exporter": "python",
   "pygments_lexer": "ipython3",
   "version": "3.11.2"
  }
 },
 "nbformat": 4,
 "nbformat_minor": 2
}
