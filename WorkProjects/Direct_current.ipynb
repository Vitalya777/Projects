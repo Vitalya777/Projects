{
 "cells": [
  {
   "cell_type": "code",
   "execution_count": 2,
   "metadata": {},
   "outputs": [],
   "source": [
    "from sympy.abc import I, pi, r, rho, x, a\n",
    "from sympy import symbols, integrate, exp, oo, solve"
   ]
  },
  {
   "cell_type": "markdown",
   "metadata": {},
   "source": [
    "## Поле точечного источника постоянного электрического тока\n",
    "Предположим что точечный электрод $А$, излучающий постоянный электричесий ток с силой $I$, находится в однородной и изотропной среде с удельным сопротивлением $\\rho$.\n",
    "Второй источник тока $B$ удален на бесконечность и его влиянием можно пренебречь. Тогда плотность тока $j$ на расстоянии $r$ от источника будет равна: "
   ]
  },
  {
   "cell_type": "code",
   "execution_count": 3,
   "metadata": {},
   "outputs": [
    {
     "data": {
      "text/latex": [
       "$\\displaystyle \\frac{I}{4 \\pi r^{2}}$"
      ],
      "text/plain": [
       "I/(4*pi*r**2)"
      ]
     },
     "execution_count": 3,
     "metadata": {},
     "output_type": "execute_result"
    }
   ],
   "source": [
    "j = I/(4*pi*r**2)\n",
    "j"
   ]
  },
  {
   "cell_type": "markdown",
   "metadata": {},
   "source": [
    "Падение напряжения $-dU = \\rho j dr$ на элементарном участке $dr$:"
   ]
  },
  {
   "cell_type": "code",
   "execution_count": 4,
   "metadata": {},
   "outputs": [
    {
     "data": {
      "text/latex": [
       "$\\displaystyle \\frac{I dr \\rho}{4 \\pi r^{2}}$"
      ],
      "text/plain": [
       "I*dr*rho/(4*pi*r**2)"
      ]
     },
     "execution_count": 4,
     "metadata": {},
     "output_type": "execute_result"
    }
   ],
   "source": [
    "dr = symbols('dr')\n",
    "dU = rho*j*dr\n",
    "dU"
   ]
  },
  {
   "cell_type": "markdown",
   "metadata": {},
   "source": [
    "Потенциал электрического поля в точке $M$, расположенной на рсстоянии $AM$ от источника тока:"
   ]
  },
  {
   "cell_type": "code",
   "execution_count": 5,
   "metadata": {},
   "outputs": [
    {
     "data": {
      "text/latex": [
       "$\\displaystyle \\frac{I \\rho}{4 AM \\pi}$"
      ],
      "text/plain": [
       "I*rho/(4*AM*pi)"
      ]
     },
     "execution_count": 5,
     "metadata": {},
     "output_type": "execute_result"
    }
   ],
   "source": [
    "AM, AN = symbols('AM, AN')\n",
    "Um = -integrate(rho*j, (r,oo,AM))\n",
    "Um"
   ]
  },
  {
   "cell_type": "markdown",
   "metadata": {},
   "source": [
    "Потенциал электрического поля в точке $N$, расположенной на рсстоянии $AN$ от источника тока:"
   ]
  },
  {
   "cell_type": "code",
   "execution_count": 6,
   "metadata": {},
   "outputs": [
    {
     "data": {
      "text/latex": [
       "$\\displaystyle \\frac{I \\rho}{4 AN \\pi}$"
      ],
      "text/plain": [
       "I*rho/(4*AN*pi)"
      ]
     },
     "execution_count": 6,
     "metadata": {},
     "output_type": "execute_result"
    }
   ],
   "source": [
    "Un = -integrate(rho*j, (r,oo,AN))\n",
    "Un"
   ]
  },
  {
   "cell_type": "markdown",
   "metadata": {},
   "source": [
    "Тогда уднльное сопротивление $\\rho$ равно:"
   ]
  },
  {
   "cell_type": "code",
   "execution_count": 7,
   "metadata": {},
   "outputs": [
    {
     "data": {
      "text/latex": [
       "$\\displaystyle - \\frac{4 AM AN deltaU \\pi}{I \\left(AM - AN\\right)}$"
      ],
      "text/plain": [
       "-4*AM*AN*deltaU*pi/(I*(AM - AN))"
      ]
     },
     "execution_count": 7,
     "metadata": {},
     "output_type": "execute_result"
    }
   ],
   "source": [
    "deltaU = symbols('deltaU')\n",
    "solve(-deltaU + Um - Un, rho)[0]"
   ]
  },
  {
   "cell_type": "markdown",
   "metadata": {},
   "source": [
    "## Метод кажущегося сопротивления"
   ]
  },
  {
   "cell_type": "code",
   "execution_count": 8,
   "metadata": {},
   "outputs": [
    {
     "name": "stdout",
     "output_type": "stream",
     "text": [
      "0\n"
     ]
    }
   ],
   "source": [
    "print(0)"
   ]
  }
 ],
 "metadata": {
  "kernelspec": {
   "display_name": ".venv",
   "language": "python",
   "name": "python3"
  },
  "language_info": {
   "codemirror_mode": {
    "name": "ipython",
    "version": 3
   },
   "file_extension": ".py",
   "mimetype": "text/x-python",
   "name": "python",
   "nbconvert_exporter": "python",
   "pygments_lexer": "ipython3",
   "version": "3.11.2"
  }
 },
 "nbformat": 4,
 "nbformat_minor": 2
}
