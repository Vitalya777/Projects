{
 "cells": [
  {
   "cell_type": "code",
   "execution_count": 6,
   "metadata": {},
   "outputs": [],
   "source": [
    "import scipy.integrate as spi\n",
    "import numpy as np\n",
    "import plotly.graph_objs as go\n",
    "import plotly.io as pio"
   ]
  },
  {
   "cell_type": "code",
   "execution_count": 8,
   "metadata": {},
   "outputs": [],
   "source": [
    "pio.renderers.default='browser'\n",
    "\n",
    "R = 4.0\n",
    "mu_0 = 4*np.pi\n",
    "I = 10.0\n",
    "\n",
    "def integrate(func, lo, hi, *args):\n",
    "    return np.vectorize(lambda n, m, z: spi.quad(func, lo, hi, (n, m, z)+args)[0])\n",
    "\n",
    "def dBx(theta,x,y,z):\n",
    "    return ((mu_0*I)/(4*np.pi))*(R*z*np.cos(theta))/((x-R*np.cos(theta))**2 +(y-R*np.sin(theta))**2+z**2)**(3/2)\n",
    "\n",
    "def dBy(theta,x,y,z):\n",
    "    return ((mu_0*I)/(4*np.pi))*(R*z*np.sin(theta))/((x-R*np.cos(theta))**2+(y-R*np.sin(theta))**2+z**2)**(3/2)\n",
    "\n",
    "def dBz(theta,x,y,z):\n",
    "    return ((mu_0*I)/(4*np.pi))*(((-R)*((np.sin(theta)*(y-R*np.sin(theta)))+(np.cos(theta)*(x-R*np.cos(theta)))))/ \\\n",
    "           ((x-R*np.cos(theta))**2+(y-R*np.sin(theta))**2+z**2)**(3/2))\n",
    "\n",
    "x, y, z = np.mgrid[-10:10:10j,-10:10:10j,-10:10:10j]\n",
    "\n",
    "Bx, By, Bz = [integrate(func, 0, 2*np.pi)(x,y,z)\n",
    "              for func in (dBx, dBy, dBz)]\n",
    "\n",
    "Bx, By, Bz = np.array(Bx), np.array(By), np.array(Bz)\n",
    "\n",
    "x, y, z, Bx, By, Bz = x.flatten(), y.flatten(), z.flatten(), Bx.flatten(), By.flatten(), Bz.flatten()\n",
    "\n",
    "Bx, By, Bz = Bx/np.max(Bx), By/np.max(By), Bz/np.max(Bz)\n",
    "\n",
    "x, y, z, Bx, By, Bz = x.tolist(), y.tolist(), z.tolist(), Bx.tolist(), By.tolist(), Bz.tolist()\n",
    "\n",
    "x_pos, y_pos, z_pos = np.mgrid[-10:10:5j,-10:10:5j,0:0:5j]\n",
    "x_pos, y_pos, z_pos = x_pos.flatten(), y_pos.flatten(), z_pos.flatten()\n",
    "x_pos, y_pos, z_pos = x_pos.tolist(), y_pos.tolist(), z_pos.tolist()\n",
    "\n",
    "data_plot = [go.Streamtube(\n",
    "    x=x, y=y, z=z, u=Bx, v=By, w=Bz,\n",
    "    starts = dict(\n",
    "        x = x_pos,\n",
    "        y = y_pos,\n",
    "        z = z_pos),\n",
    "    sizeref = 0.3,\n",
    "    colorscale = 'jet',\n",
    "    showscale = True,\n",
    "    maxdisplayed = 300\n",
    "    )]\n",
    "\n",
    "fig = go.Figure(data=data_plot)\n",
    "\n",
    "fig.show()"
   ]
  }
 ],
 "metadata": {
  "kernelspec": {
   "display_name": "Python 3",
   "language": "python",
   "name": "python3"
  },
  "language_info": {
   "codemirror_mode": {
    "name": "ipython",
    "version": 3
   },
   "file_extension": ".py",
   "mimetype": "text/x-python",
   "name": "python",
   "nbconvert_exporter": "python",
   "pygments_lexer": "ipython3",
   "version": "3.13.1"
  }
 },
 "nbformat": 4,
 "nbformat_minor": 2
}
