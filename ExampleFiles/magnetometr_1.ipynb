{
  "cells": [
    {
      "cell_type": "code",
      "execution_count": 2,
      "metadata": {
        "jupyter": {
          "source_hidden": true
        },
        "trusted": true
      },
      "outputs": [],
      "source": [
        "import sympy\n",
        "from sympy import simplify, diff, sin, expand_multinomial\n",
        "from sympy.abc import a, b, omega, t, s, w"
      ]
    },
    {
      "cell_type": "markdown",
      "metadata": {},
      "source": [
        "Аппроксимируем характеристики B = f(H) укороченным полиномом 3 степени"
      ]
    },
    {
      "cell_type": "code",
      "execution_count": 3,
      "metadata": {
        "jupyter": {
          "source_hidden": true
        },
        "trusted": true
      },
      "outputs": [
        {
          "data": {
            "text/latex": [
              "$\\displaystyle H^{3} b + H a$"
            ],
            "text/plain": [
              "H**3*b + H*a"
            ]
          },
          "execution_count": 3,
          "metadata": {},
          "output_type": "execute_result"
        }
      ],
      "source": [
        "H = sympy.symbols('H')\n",
        "B = a*H + b*H**3\n",
        "B # индукция B, где a и b - коэффициенты аппроксимации, завис. от сердечника"
      ]
    },
    {
      "cell_type": "markdown",
      "metadata": {},
      "source": [
        "Тогда, подставим сумму и разность полей H0 и H1"
      ]
    },
    {
      "cell_type": "code",
      "execution_count": 4,
      "metadata": {
        "jupyter": {
          "source_hidden": true
        },
        "trusted": true
      },
      "outputs": [
        {
          "data": {
            "text/latex": [
              "$\\displaystyle a \\left(H_{0} - H_{1}\\right) + b \\left(H_{0} - H_{1}\\right)^{3}$"
            ],
            "text/plain": [
              "a*(H0 - H1) + b*(H0 - H1)**3"
            ]
          },
          "execution_count": 4,
          "metadata": {},
          "output_type": "execute_result"
        }
      ],
      "source": [
        "H0,H1,Hm = sympy.symbols('H0 H1 Hm')\n",
        "B1 = B.subs(H,H0-H1)\n",
        "B1 # индукция в первом сердечнике"
      ]
    },
    {
      "cell_type": "code",
      "execution_count": 5,
      "metadata": {
        "jupyter": {
          "source_hidden": true
        },
        "trusted": true
      },
      "outputs": [
        {
          "data": {
            "text/latex": [
              "$\\displaystyle a \\left(H_{0} + H_{1}\\right) + b \\left(H_{0} + H_{1}\\right)^{3}$"
            ],
            "text/plain": [
              "a*(H0 + H1) + b*(H0 + H1)**3"
            ]
          },
          "execution_count": 5,
          "metadata": {},
          "output_type": "execute_result"
        }
      ],
      "source": [
        "B2 = B.subs(H,H0+H1)\n",
        "B2 # индукция во втором сердечнике"
      ]
    },
    {
      "cell_type": "markdown",
      "metadata": {},
      "source": [
        "Расскроим скобки"
      ]
    },
    {
      "cell_type": "code",
      "execution_count": 6,
      "metadata": {
        "jupyter": {
          "source_hidden": true
        },
        "trusted": true
      },
      "outputs": [
        {
          "data": {
            "text/latex": [
              "$\\displaystyle a \\left(H_{0} - H_{1}\\right) + b \\left(H_{0}^{3} - 3 H_{0}^{2} H_{1} + 3 H_{0} H_{1}^{2} - H_{1}^{3}\\right)$"
            ],
            "text/plain": [
              "a*(H0 - H1) + b*(H0**3 - 3*H0**2*H1 + 3*H0*H1**2 - H1**3)"
            ]
          },
          "execution_count": 6,
          "metadata": {},
          "output_type": "execute_result"
        }
      ],
      "source": [
        "expand_multinomial(B1)"
      ]
    },
    {
      "cell_type": "code",
      "execution_count": 7,
      "metadata": {
        "jupyter": {
          "source_hidden": true
        },
        "trusted": true
      },
      "outputs": [
        {
          "data": {
            "text/latex": [
              "$\\displaystyle a \\left(H_{0} + H_{1}\\right) + b \\left(H_{0}^{3} + 3 H_{0}^{2} H_{1} + 3 H_{0} H_{1}^{2} + H_{1}^{3}\\right)$"
            ],
            "text/plain": [
              "a*(H0 + H1) + b*(H0**3 + 3*H0**2*H1 + 3*H0*H1**2 + H1**3)"
            ]
          },
          "execution_count": 7,
          "metadata": {},
          "output_type": "execute_result"
        }
      ],
      "source": [
        "expand_multinomial(B2)"
      ]
    },
    {
      "cell_type": "markdown",
      "metadata": {},
      "source": [
        "Положим H1 - синусоида с амплитудой Hm, тогда индукция будет иметь вид:"
      ]
    },
    {
      "cell_type": "code",
      "execution_count": 8,
      "metadata": {
        "jupyter": {
          "source_hidden": true
        },
        "trusted": true
      },
      "outputs": [
        {
          "data": {
            "text/latex": [
              "$\\displaystyle 2 H_{0} \\left(H_{0}^{2} b + 3 Hm^{2} b \\sin^{2}{\\left(\\omega t \\right)} + a\\right)$"
            ],
            "text/plain": [
              "2*H0*(H0**2*b + 3*Hm**2*b*sin(omega*t)**2 + a)"
            ]
          },
          "execution_count": 8,
          "metadata": {},
          "output_type": "execute_result"
        }
      ],
      "source": [
        "Bsum = B1+B2\n",
        "Bsum = simplify(Bsum.subs(H1,Hm*sin(omega*t)))\n",
        "Bsum"
      ]
    },
    {
      "cell_type": "markdown",
      "metadata": {},
      "source": [
        "И на вторичной обмотке появится ЭДС следующего вида:"
      ]
    },
    {
      "cell_type": "code",
      "execution_count": 9,
      "metadata": {
        "jupyter": {
          "source_hidden": true
        },
        "trusted": true
      },
      "outputs": [
        {
          "data": {
            "text/latex": [
              "$\\displaystyle - 6 H_{0} Hm^{2} b \\omega s w \\sin{\\left(2 \\omega t \\right)}$"
            ],
            "text/plain": [
              "-6*H0*Hm**2*b*omega*s*w*sin(2*omega*t)"
            ]
          },
          "execution_count": 9,
          "metadata": {},
          "output_type": "execute_result"
        }
      ],
      "source": [
        "EMF = -s*w*simplify(diff(Bsum,t))\n",
        "EMF"
      ]
    },
    {
      "cell_type": "markdown",
      "metadata": {},
      "source": [
        "Таким образом ЭДС в феррозонде появляется при наличии постоянного поля и оказывается пропорционално ему.\n",
        "А так же ЭДС имеет удвоенную частоту."
      ]
    }
  ],
  "metadata": {
    "kernelspec": {
      "display_name": ".venv",
      "language": "python",
      "name": "python3"
    },
    "language_info": {
      "codemirror_mode": {
        "name": "ipython",
        "version": 3
      },
      "file_extension": ".py",
      "mimetype": "text/x-python",
      "name": "python",
      "nbconvert_exporter": "python",
      "pygments_lexer": "ipython3",
      "version": "3.11.2"
    }
  },
  "nbformat": 4,
  "nbformat_minor": 4
}
