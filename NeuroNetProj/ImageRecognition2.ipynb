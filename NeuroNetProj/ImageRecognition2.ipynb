{
 "cells": [
  {
   "cell_type": "code",
   "execution_count": 3,
   "metadata": {},
   "outputs": [],
   "source": [
    "import numpy as np\n",
    "from keras.datasets import cifar10\n",
    "from keras.models import Sequential\n",
    "from keras.layers import Dense, Flatten, Activation, Input\n",
    "from keras.layers import Dropout\n",
    "from keras.layers import Conv2D, MaxPooling2D\n",
    "from keras.optimizers import SGD\n",
    "from keras.utils import to_categorical"
   ]
  },
  {
   "cell_type": "code",
   "execution_count": 4,
   "metadata": {},
   "outputs": [],
   "source": [
    "(X_train0, y_train0), (X_test0, y_test0) = cifar10.load_data()"
   ]
  },
  {
   "cell_type": "code",
   "execution_count": 5,
   "metadata": {},
   "outputs": [
    {
     "data": {
      "image/png": "[encoded data removed]",
      "text/plain": [
       "<Figure size 640x480 with 1 Axes>"
      ]
     },
     "metadata": {},
     "output_type": "display_data"
    }
   ],
   "source": [
    "import matplotlib.pyplot as plt\n",
    "plt.figure()\n",
    "plt.imshow(X_train0[6])\n",
    "plt.show()"
   ]
  },
  {
   "cell_type": "code",
   "execution_count": 6,
   "metadata": {},
   "outputs": [],
   "source": [
    "X_train = X_train0.astype('float32')\n",
    "X_test = X_test0.astype('float32')\n",
    "X_train /= 255\n",
    "X_test /= 255\n",
    "# Количество классов изображений\n",
    "nb_classes = 10\n",
    "Y_train = to_categorical(y_train0, nb_classes)\n",
    "Y_test = to_categorical(y_test0, nb_classes)"
   ]
  },
  {
   "cell_type": "code",
   "execution_count": null,
   "metadata": {},
   "outputs": [
    {
     "name": "stderr",
     "output_type": "stream",
     "text": [
      "/home/erick/Desktop/Projects/.venv/lib/python3.11/site-packages/keras/src/optimizers/base_optimizer.py:86: UserWarning: Argument `decay` is no longer supported and will be ignored.\n",
      "  warnings.warn(\n"
     ]
    },
    {
     "data": {
      "text/html": [
       "<pre style=\"white-space:pre;overflow-x:auto;line-height:normal;font-family:Menlo,'DejaVu Sans Mono',consolas,'Courier New',monospace\"><span style=\"font-weight: bold\">Model: \"sequential\"</span>\n",
       "</pre>\n"
      ],
      "text/plain": [
       "\u001b[1mModel: \"sequential\"\u001b[0m\n"
      ]
     },
     "metadata": {},
     "output_type": "display_data"
    },
    {
     "data": {
      "text/html": [
       "<pre style=\"white-space:pre;overflow-x:auto;line-height:normal;font-family:Menlo,'DejaVu Sans Mono',consolas,'Courier New',monospace\">┏━━━━━━━━━━━━━━━━━━━━━━━━━━━━━━━━━┳━━━━━━━━━━━━━━━━━━━━━━━━┳━━━━━━━━━━━━━━━┓\n",
       "┃<span style=\"font-weight: bold\"> Layer (type)                    </span>┃<span style=\"font-weight: bold\"> Output Shape           </span>┃<span style=\"font-weight: bold\">       Param # </span>┃\n",
       "┡━━━━━━━━━━━━━━━━━━━━━━━━━━━━━━━━━╇━━━━━━━━━━━━━━━━━━━━━━━━╇━━━━━━━━━━━━━━━┩\n",
       "│ conv2d (<span style=\"color: #0087ff; text-decoration-color: #0087ff\">Conv2D</span>)                 │ (<span style=\"color: #00d7ff; text-decoration-color: #00d7ff\">None</span>, <span style=\"color: #00af00; text-decoration-color: #00af00\">32</span>, <span style=\"color: #00af00; text-decoration-color: #00af00\">32</span>, <span style=\"color: #00af00; text-decoration-color: #00af00\">32</span>)     │           <span style=\"color: #00af00; text-decoration-color: #00af00\">896</span> │\n",
       "├─────────────────────────────────┼────────────────────────┼───────────────┤\n",
       "│ conv2d_1 (<span style=\"color: #0087ff; text-decoration-color: #0087ff\">Conv2D</span>)               │ (<span style=\"color: #00d7ff; text-decoration-color: #00d7ff\">None</span>, <span style=\"color: #00af00; text-decoration-color: #00af00\">32</span>, <span style=\"color: #00af00; text-decoration-color: #00af00\">32</span>, <span style=\"color: #00af00; text-decoration-color: #00af00\">32</span>)     │         <span style=\"color: #00af00; text-decoration-color: #00af00\">9,248</span> │\n",
       "├─────────────────────────────────┼────────────────────────┼───────────────┤\n",
       "│ max_pooling2d (<span style=\"color: #0087ff; text-decoration-color: #0087ff\">MaxPooling2D</span>)    │ (<span style=\"color: #00d7ff; text-decoration-color: #00d7ff\">None</span>, <span style=\"color: #00af00; text-decoration-color: #00af00\">16</span>, <span style=\"color: #00af00; text-decoration-color: #00af00\">16</span>, <span style=\"color: #00af00; text-decoration-color: #00af00\">32</span>)     │             <span style=\"color: #00af00; text-decoration-color: #00af00\">0</span> │\n",
       "├─────────────────────────────────┼────────────────────────┼───────────────┤\n",
       "│ dropout (<span style=\"color: #0087ff; text-decoration-color: #0087ff\">Dropout</span>)               │ (<span style=\"color: #00d7ff; text-decoration-color: #00d7ff\">None</span>, <span style=\"color: #00af00; text-decoration-color: #00af00\">16</span>, <span style=\"color: #00af00; text-decoration-color: #00af00\">16</span>, <span style=\"color: #00af00; text-decoration-color: #00af00\">32</span>)     │             <span style=\"color: #00af00; text-decoration-color: #00af00\">0</span> │\n",
       "├─────────────────────────────────┼────────────────────────┼───────────────┤\n",
       "│ conv2d_2 (<span style=\"color: #0087ff; text-decoration-color: #0087ff\">Conv2D</span>)               │ (<span style=\"color: #00d7ff; text-decoration-color: #00d7ff\">None</span>, <span style=\"color: #00af00; text-decoration-color: #00af00\">16</span>, <span style=\"color: #00af00; text-decoration-color: #00af00\">16</span>, <span style=\"color: #00af00; text-decoration-color: #00af00\">64</span>)     │        <span style=\"color: #00af00; text-decoration-color: #00af00\">18,496</span> │\n",
       "├─────────────────────────────────┼────────────────────────┼───────────────┤\n",
       "│ conv2d_3 (<span style=\"color: #0087ff; text-decoration-color: #0087ff\">Conv2D</span>)               │ (<span style=\"color: #00d7ff; text-decoration-color: #00d7ff\">None</span>, <span style=\"color: #00af00; text-decoration-color: #00af00\">14</span>, <span style=\"color: #00af00; text-decoration-color: #00af00\">14</span>, <span style=\"color: #00af00; text-decoration-color: #00af00\">64</span>)     │        <span style=\"color: #00af00; text-decoration-color: #00af00\">36,928</span> │\n",
       "├─────────────────────────────────┼────────────────────────┼───────────────┤\n",
       "│ max_pooling2d_1 (<span style=\"color: #0087ff; text-decoration-color: #0087ff\">MaxPooling2D</span>)  │ (<span style=\"color: #00d7ff; text-decoration-color: #00d7ff\">None</span>, <span style=\"color: #00af00; text-decoration-color: #00af00\">7</span>, <span style=\"color: #00af00; text-decoration-color: #00af00\">7</span>, <span style=\"color: #00af00; text-decoration-color: #00af00\">64</span>)       │             <span style=\"color: #00af00; text-decoration-color: #00af00\">0</span> │\n",
       "├─────────────────────────────────┼────────────────────────┼───────────────┤\n",
       "│ dropout_1 (<span style=\"color: #0087ff; text-decoration-color: #0087ff\">Dropout</span>)             │ (<span style=\"color: #00d7ff; text-decoration-color: #00d7ff\">None</span>, <span style=\"color: #00af00; text-decoration-color: #00af00\">7</span>, <span style=\"color: #00af00; text-decoration-color: #00af00\">7</span>, <span style=\"color: #00af00; text-decoration-color: #00af00\">64</span>)       │             <span style=\"color: #00af00; text-decoration-color: #00af00\">0</span> │\n",
       "├─────────────────────────────────┼────────────────────────┼───────────────┤\n",
       "│ flatten (<span style=\"color: #0087ff; text-decoration-color: #0087ff\">Flatten</span>)               │ (<span style=\"color: #00d7ff; text-decoration-color: #00d7ff\">None</span>, <span style=\"color: #00af00; text-decoration-color: #00af00\">3136</span>)           │             <span style=\"color: #00af00; text-decoration-color: #00af00\">0</span> │\n",
       "├─────────────────────────────────┼────────────────────────┼───────────────┤\n",
       "│ dense (<span style=\"color: #0087ff; text-decoration-color: #0087ff\">Dense</span>)                   │ (<span style=\"color: #00d7ff; text-decoration-color: #00d7ff\">None</span>, <span style=\"color: #00af00; text-decoration-color: #00af00\">512</span>)            │     <span style=\"color: #00af00; text-decoration-color: #00af00\">1,606,144</span> │\n",
       "├─────────────────────────────────┼────────────────────────┼───────────────┤\n",
       "│ dropout_2 (<span style=\"color: #0087ff; text-decoration-color: #0087ff\">Dropout</span>)             │ (<span style=\"color: #00d7ff; text-decoration-color: #00d7ff\">None</span>, <span style=\"color: #00af00; text-decoration-color: #00af00\">512</span>)            │             <span style=\"color: #00af00; text-decoration-color: #00af00\">0</span> │\n",
       "├─────────────────────────────────┼────────────────────────┼───────────────┤\n",
       "│ dense_1 (<span style=\"color: #0087ff; text-decoration-color: #0087ff\">Dense</span>)                 │ (<span style=\"color: #00d7ff; text-decoration-color: #00d7ff\">None</span>, <span style=\"color: #00af00; text-decoration-color: #00af00\">10</span>)             │         <span style=\"color: #00af00; text-decoration-color: #00af00\">5,130</span> │\n",
       "└─────────────────────────────────┴────────────────────────┴───────────────┘\n",
       "</pre>\n"
      ],
      "text/plain": [
       "┏━━━━━━━━━━━━━━━━━━━━━━━━━━━━━━━━━┳━━━━━━━━━━━━━━━━━━━━━━━━┳━━━━━━━━━━━━━━━┓\n",
       "┃\u001b[1m \u001b[0m\u001b[1mLayer (type)                   \u001b[0m\u001b[1m \u001b[0m┃\u001b[1m \u001b[0m\u001b[1mOutput Shape          \u001b[0m\u001b[1m \u001b[0m┃\u001b[1m \u001b[0m\u001b[1m      Param #\u001b[0m\u001b[1m \u001b[0m┃\n",
       "┡━━━━━━━━━━━━━━━━━━━━━━━━━━━━━━━━━╇━━━━━━━━━━━━━━━━━━━━━━━━╇━━━━━━━━━━━━━━━┩\n",
       "│ conv2d (\u001b[38;5;33mConv2D\u001b[0m)                 │ (\u001b[38;5;45mNone\u001b[0m, \u001b[38;5;34m32\u001b[0m, \u001b[38;5;34m32\u001b[0m, \u001b[38;5;34m32\u001b[0m)     │           \u001b[38;5;34m896\u001b[0m │\n",
       "├─────────────────────────────────┼────────────────────────┼───────────────┤\n",
       "│ conv2d_1 (\u001b[38;5;33mConv2D\u001b[0m)               │ (\u001b[38;5;45mNone\u001b[0m, \u001b[38;5;34m32\u001b[0m, \u001b[38;5;34m32\u001b[0m, \u001b[38;5;34m32\u001b[0m)     │         \u001b[38;5;34m9,248\u001b[0m │\n",
       "├─────────────────────────────────┼────────────────────────┼───────────────┤\n",
       "│ max_pooling2d (\u001b[38;5;33mMaxPooling2D\u001b[0m)    │ (\u001b[38;5;45mNone\u001b[0m, \u001b[38;5;34m16\u001b[0m, \u001b[38;5;34m16\u001b[0m, \u001b[38;5;34m32\u001b[0m)     │             \u001b[38;5;34m0\u001b[0m │\n",
       "├─────────────────────────────────┼────────────────────────┼───────────────┤\n",
       "│ dropout (\u001b[38;5;33mDropout\u001b[0m)               │ (\u001b[38;5;45mNone\u001b[0m, \u001b[38;5;34m16\u001b[0m, \u001b[38;5;34m16\u001b[0m, \u001b[38;5;34m32\u001b[0m)     │             \u001b[38;5;34m0\u001b[0m │\n",
       "├─────────────────────────────────┼────────────────────────┼───────────────┤\n",
       "│ conv2d_2 (\u001b[38;5;33mConv2D\u001b[0m)               │ (\u001b[38;5;45mNone\u001b[0m, \u001b[38;5;34m16\u001b[0m, \u001b[38;5;34m16\u001b[0m, \u001b[38;5;34m64\u001b[0m)     │        \u001b[38;5;34m18,496\u001b[0m │\n",
       "├─────────────────────────────────┼────────────────────────┼───────────────┤\n",
       "│ conv2d_3 (\u001b[38;5;33mConv2D\u001b[0m)               │ (\u001b[38;5;45mNone\u001b[0m, \u001b[38;5;34m14\u001b[0m, \u001b[38;5;34m14\u001b[0m, \u001b[38;5;34m64\u001b[0m)     │        \u001b[38;5;34m36,928\u001b[0m │\n",
       "├─────────────────────────────────┼────────────────────────┼───────────────┤\n",
       "│ max_pooling2d_1 (\u001b[38;5;33mMaxPooling2D\u001b[0m)  │ (\u001b[38;5;45mNone\u001b[0m, \u001b[38;5;34m7\u001b[0m, \u001b[38;5;34m7\u001b[0m, \u001b[38;5;34m64\u001b[0m)       │             \u001b[38;5;34m0\u001b[0m │\n",
       "├─────────────────────────────────┼────────────────────────┼───────────────┤\n",
       "│ dropout_1 (\u001b[38;5;33mDropout\u001b[0m)             │ (\u001b[38;5;45mNone\u001b[0m, \u001b[38;5;34m7\u001b[0m, \u001b[38;5;34m7\u001b[0m, \u001b[38;5;34m64\u001b[0m)       │             \u001b[38;5;34m0\u001b[0m │\n",
       "├─────────────────────────────────┼────────────────────────┼───────────────┤\n",
       "│ flatten (\u001b[38;5;33mFlatten\u001b[0m)               │ (\u001b[38;5;45mNone\u001b[0m, \u001b[38;5;34m3136\u001b[0m)           │             \u001b[38;5;34m0\u001b[0m │\n",
       "├─────────────────────────────────┼────────────────────────┼───────────────┤\n",
       "│ dense (\u001b[38;5;33mDense\u001b[0m)                   │ (\u001b[38;5;45mNone\u001b[0m, \u001b[38;5;34m512\u001b[0m)            │     \u001b[38;5;34m1,606,144\u001b[0m │\n",
       "├─────────────────────────────────┼────────────────────────┼───────────────┤\n",
       "│ dropout_2 (\u001b[38;5;33mDropout\u001b[0m)             │ (\u001b[38;5;45mNone\u001b[0m, \u001b[38;5;34m512\u001b[0m)            │             \u001b[38;5;34m0\u001b[0m │\n",
       "├─────────────────────────────────┼────────────────────────┼───────────────┤\n",
       "│ dense_1 (\u001b[38;5;33mDense\u001b[0m)                 │ (\u001b[38;5;45mNone\u001b[0m, \u001b[38;5;34m10\u001b[0m)             │         \u001b[38;5;34m5,130\u001b[0m │\n",
       "└─────────────────────────────────┴────────────────────────┴───────────────┘\n"
      ]
     },
     "metadata": {},
     "output_type": "display_data"
    },
    {
     "data": {
      "text/html": [
       "<pre style=\"white-space:pre;overflow-x:auto;line-height:normal;font-family:Menlo,'DejaVu Sans Mono',consolas,'Courier New',monospace\"><span style=\"font-weight: bold\"> Total params: </span><span style=\"color: #00af00; text-decoration-color: #00af00\">1,676,842</span> (6.40 MB)\n",
       "</pre>\n"
      ],
      "text/plain": [
       "\u001b[1m Total params: \u001b[0m\u001b[38;5;34m1,676,842\u001b[0m (6.40 MB)\n"
      ]
     },
     "metadata": {},
     "output_type": "display_data"
    },
    {
     "data": {
      "text/html": [
       "<pre style=\"white-space:pre;overflow-x:auto;line-height:normal;font-family:Menlo,'DejaVu Sans Mono',consolas,'Courier New',monospace\"><span style=\"font-weight: bold\"> Trainable params: </span><span style=\"color: #00af00; text-decoration-color: #00af00\">1,676,842</span> (6.40 MB)\n",
       "</pre>\n"
      ],
      "text/plain": [
       "\u001b[1m Trainable params: \u001b[0m\u001b[38;5;34m1,676,842\u001b[0m (6.40 MB)\n"
      ]
     },
     "metadata": {},
     "output_type": "display_data"
    },
    {
     "data": {
      "text/html": [
       "<pre style=\"white-space:pre;overflow-x:auto;line-height:normal;font-family:Menlo,'DejaVu Sans Mono',consolas,'Courier New',monospace\"><span style=\"font-weight: bold\"> Non-trainable params: </span><span style=\"color: #00af00; text-decoration-color: #00af00\">0</span> (0.00 B)\n",
       "</pre>\n"
      ],
      "text/plain": [
       "\u001b[1m Non-trainable params: \u001b[0m\u001b[38;5;34m0\u001b[0m (0.00 B)\n"
      ]
     },
     "metadata": {},
     "output_type": "display_data"
    }
   ],
   "source": [
    "model = Sequential()\n",
    "model.add(Input(shape=(32, 32, 3)))\n",
    "model.add(Conv2D(32, (3, 3), padding='same', activation='relu'))\n",
    "model.add(Conv2D(32, (3, 3), padding='same', activation='relu'))\n",
    "model.add(MaxPooling2D(pool_size=(2, 2)))\n",
    "model.add(Dropout(0.25))\n",
    "\n",
    "model.add(Conv2D(64, (3, 3), padding='same', activation='relu'))\n",
    "model.add(Conv2D(64, (3, 3), activation='relu'))\n",
    "model.add(MaxPooling2D(pool_size=(2, 2)))\n",
    "model.add(Dropout(0.25))\n",
    "\n",
    "model.add(Flatten())\n",
    "model.add(Dense(512, activation='relu'))\n",
    "model.add(Dropout(0.5))\n",
    "\n",
    "model.add(Dense(nb_classes, activation='softmax'))\n",
    "sgd = SGD(learning_rate=0.01, momentum=0.9, nesterov=True)\n",
    "model.compile(loss='categorical_crossentropy', optimizer=sgd, metrics=['accuracy'])\n",
    "model.summary()"
   ]
  },
  {
   "cell_type": "code",
   "execution_count": 9,
   "metadata": {},
   "outputs": [
    {
     "name": "stdout",
     "output_type": "stream",
     "text": [
      "Epoch 1/25\n"
     ]
    },
    {
     "name": "stderr",
     "output_type": "stream",
     "text": [
      "2025-02-26 22:15:35.637747: W external/local_xla/xla/tsl/framework/cpu_allocator_impl.cc:83] Allocation of 552960000 exceeds 10% of free system memory.\n"
     ]
    },
    {
     "name": "stdout",
     "output_type": "stream",
     "text": [
      "\u001b[1m1406/1407\u001b[0m \u001b[32m━━━━━━━━━━━━━━━━━━━\u001b[0m\u001b[37m━\u001b[0m \u001b[1m0s\u001b[0m 49ms/step - accuracy: 0.8095 - loss: 0.5635"
     ]
    },
    {
     "name": "stderr",
     "output_type": "stream",
     "text": [
      "2025-02-26 22:16:45.448995: W external/local_xla/xla/tsl/framework/cpu_allocator_impl.cc:83] Allocation of 61440000 exceeds 10% of free system memory.\n"
     ]
    },
    {
     "name": "stdout",
     "output_type": "stream",
     "text": [
      "\u001b[1m1407/1407\u001b[0m \u001b[32m━━━━━━━━━━━━━━━━━━━━\u001b[0m\u001b[37m\u001b[0m \u001b[1m71s\u001b[0m 50ms/step - accuracy: 0.8095 - loss: 0.5635 - val_accuracy: 0.7702 - val_loss: 0.7098\n",
      "Epoch 2/25\n",
      "\u001b[1m 516/1407\u001b[0m \u001b[32m━━━━━━━\u001b[0m\u001b[37m━━━━━━━━━━━━━\u001b[0m \u001b[1m43s\u001b[0m 49ms/step - accuracy: 0.8063 - loss: 0.5568"
     ]
    },
    {
     "ename": "KeyboardInterrupt",
     "evalue": "",
     "output_type": "error",
     "traceback": [
      "\u001b[0;31m---------------------------------------------------------------------------\u001b[0m",
      "\u001b[0;31mKeyboardInterrupt\u001b[0m                         Traceback (most recent call last)",
      "Cell \u001b[0;32mIn[9], line 1\u001b[0m\n\u001b[0;32m----> 1\u001b[0m \u001b[43mmodel\u001b[49m\u001b[38;5;241;43m.\u001b[39;49m\u001b[43mfit\u001b[49m\u001b[43m(\u001b[49m\u001b[43mX_train\u001b[49m\u001b[43m,\u001b[49m\u001b[43m \u001b[49m\u001b[43mY_train\u001b[49m\u001b[43m,\u001b[49m\u001b[43m \u001b[49m\u001b[43mbatch_size\u001b[49m\u001b[38;5;241;43m=\u001b[39;49m\u001b[38;5;241;43m32\u001b[39;49m\u001b[43m,\u001b[49m\u001b[43m \u001b[49m\u001b[43mepochs\u001b[49m\u001b[38;5;241;43m=\u001b[39;49m\u001b[38;5;241;43m25\u001b[39;49m\u001b[43m,\u001b[49m\u001b[43m \u001b[49m\u001b[43mvalidation_split\u001b[49m\u001b[38;5;241;43m=\u001b[39;49m\u001b[38;5;241;43m0.1\u001b[39;49m\u001b[43m,\u001b[49m\u001b[43m \u001b[49m\u001b[43mshuffle\u001b[49m\u001b[38;5;241;43m=\u001b[39;49m\u001b[38;5;28;43;01mTrue\u001b[39;49;00m\u001b[43m)\u001b[49m\n",
      "File \u001b[0;32m~/Desktop/Projects/.venv/lib/python3.11/site-packages/keras/src/utils/traceback_utils.py:117\u001b[0m, in \u001b[0;36mfilter_traceback.<locals>.error_handler\u001b[0;34m(*args, **kwargs)\u001b[0m\n\u001b[1;32m    115\u001b[0m filtered_tb \u001b[38;5;241m=\u001b[39m \u001b[38;5;28;01mNone\u001b[39;00m\n\u001b[1;32m    116\u001b[0m \u001b[38;5;28;01mtry\u001b[39;00m:\n\u001b[0;32m--> 117\u001b[0m     \u001b[38;5;28;01mreturn\u001b[39;00m \u001b[43mfn\u001b[49m\u001b[43m(\u001b[49m\u001b[38;5;241;43m*\u001b[39;49m\u001b[43margs\u001b[49m\u001b[43m,\u001b[49m\u001b[43m \u001b[49m\u001b[38;5;241;43m*\u001b[39;49m\u001b[38;5;241;43m*\u001b[39;49m\u001b[43mkwargs\u001b[49m\u001b[43m)\u001b[49m\n\u001b[1;32m    118\u001b[0m \u001b[38;5;28;01mexcept\u001b[39;00m \u001b[38;5;167;01mException\u001b[39;00m \u001b[38;5;28;01mas\u001b[39;00m e:\n\u001b[1;32m    119\u001b[0m     filtered_tb \u001b[38;5;241m=\u001b[39m _process_traceback_frames(e\u001b[38;5;241m.\u001b[39m__traceback__)\n",
      "File \u001b[0;32m~/Desktop/Projects/.venv/lib/python3.11/site-packages/keras/src/backend/tensorflow/trainer.py:372\u001b[0m, in \u001b[0;36mTensorFlowTrainer.fit\u001b[0;34m(self, x, y, batch_size, epochs, verbose, callbacks, validation_split, validation_data, shuffle, class_weight, sample_weight, initial_epoch, steps_per_epoch, validation_steps, validation_batch_size, validation_freq)\u001b[0m\n\u001b[1;32m    370\u001b[0m callbacks\u001b[38;5;241m.\u001b[39mon_train_batch_begin(step)\n\u001b[1;32m    371\u001b[0m logs \u001b[38;5;241m=\u001b[39m \u001b[38;5;28mself\u001b[39m\u001b[38;5;241m.\u001b[39mtrain_function(iterator)\n\u001b[0;32m--> 372\u001b[0m \u001b[43mcallbacks\u001b[49m\u001b[38;5;241;43m.\u001b[39;49m\u001b[43mon_train_batch_end\u001b[49m\u001b[43m(\u001b[49m\u001b[43mstep\u001b[49m\u001b[43m,\u001b[49m\u001b[43m \u001b[49m\u001b[43mlogs\u001b[49m\u001b[43m)\u001b[49m\n\u001b[1;32m    373\u001b[0m \u001b[38;5;28;01mif\u001b[39;00m \u001b[38;5;28mself\u001b[39m\u001b[38;5;241m.\u001b[39mstop_training:\n\u001b[1;32m    374\u001b[0m     \u001b[38;5;28;01mbreak\u001b[39;00m\n",
      "File \u001b[0;32m~/Desktop/Projects/.venv/lib/python3.11/site-packages/keras/src/callbacks/callback_list.py:172\u001b[0m, in \u001b[0;36mCallbackList.on_train_batch_end\u001b[0;34m(self, batch, logs)\u001b[0m\n\u001b[1;32m    170\u001b[0m     \u001b[38;5;28mself\u001b[39m\u001b[38;5;241m.\u001b[39m_async_dispatch(\u001b[38;5;28mself\u001b[39m\u001b[38;5;241m.\u001b[39m_on_train_batch_end, batch, logs)\n\u001b[1;32m    171\u001b[0m \u001b[38;5;28;01melse\u001b[39;00m:\n\u001b[0;32m--> 172\u001b[0m     \u001b[38;5;28;43mself\u001b[39;49m\u001b[38;5;241;43m.\u001b[39;49m\u001b[43m_on_train_batch_end\u001b[49m\u001b[43m(\u001b[49m\u001b[43mbatch\u001b[49m\u001b[43m,\u001b[49m\u001b[43m \u001b[49m\u001b[43mlogs\u001b[49m\u001b[43m)\u001b[49m\n",
      "File \u001b[0;32m~/Desktop/Projects/.venv/lib/python3.11/site-packages/keras/src/callbacks/callback_list.py:194\u001b[0m, in \u001b[0;36mCallbackList._on_train_batch_end\u001b[0;34m(self, batch, logs)\u001b[0m\n\u001b[1;32m    192\u001b[0m logs \u001b[38;5;241m=\u001b[39m python_utils\u001b[38;5;241m.\u001b[39mpythonify_logs(logs)\n\u001b[1;32m    193\u001b[0m \u001b[38;5;28;01mfor\u001b[39;00m callback \u001b[38;5;129;01min\u001b[39;00m \u001b[38;5;28mself\u001b[39m\u001b[38;5;241m.\u001b[39mcallbacks:\n\u001b[0;32m--> 194\u001b[0m     \u001b[43mcallback\u001b[49m\u001b[38;5;241;43m.\u001b[39;49m\u001b[43mon_train_batch_end\u001b[49m\u001b[43m(\u001b[49m\u001b[43mbatch\u001b[49m\u001b[43m,\u001b[49m\u001b[43m \u001b[49m\u001b[43mlogs\u001b[49m\u001b[38;5;241;43m=\u001b[39;49m\u001b[43mlogs\u001b[49m\u001b[43m)\u001b[49m\n",
      "File \u001b[0;32m~/Desktop/Projects/.venv/lib/python3.11/site-packages/keras/src/callbacks/progbar_logger.py:58\u001b[0m, in \u001b[0;36mProgbarLogger.on_train_batch_end\u001b[0;34m(self, batch, logs)\u001b[0m\n\u001b[1;32m     57\u001b[0m \u001b[38;5;28;01mdef\u001b[39;00m\u001b[38;5;250m \u001b[39m\u001b[38;5;21mon_train_batch_end\u001b[39m(\u001b[38;5;28mself\u001b[39m, batch, logs\u001b[38;5;241m=\u001b[39m\u001b[38;5;28;01mNone\u001b[39;00m):\n\u001b[0;32m---> 58\u001b[0m     \u001b[38;5;28;43mself\u001b[39;49m\u001b[38;5;241;43m.\u001b[39;49m\u001b[43m_update_progbar\u001b[49m\u001b[43m(\u001b[49m\u001b[43mbatch\u001b[49m\u001b[43m,\u001b[49m\u001b[43m \u001b[49m\u001b[43mlogs\u001b[49m\u001b[43m)\u001b[49m\n",
      "File \u001b[0;32m~/Desktop/Projects/.venv/lib/python3.11/site-packages/keras/src/callbacks/progbar_logger.py:95\u001b[0m, in \u001b[0;36mProgbarLogger._update_progbar\u001b[0;34m(self, batch, logs)\u001b[0m\n\u001b[1;32m     92\u001b[0m \u001b[38;5;28mself\u001b[39m\u001b[38;5;241m.\u001b[39mseen \u001b[38;5;241m=\u001b[39m batch \u001b[38;5;241m+\u001b[39m \u001b[38;5;241m1\u001b[39m  \u001b[38;5;66;03m# One-indexed.\u001b[39;00m\n\u001b[1;32m     94\u001b[0m \u001b[38;5;28;01mif\u001b[39;00m \u001b[38;5;28mself\u001b[39m\u001b[38;5;241m.\u001b[39mverbose \u001b[38;5;241m==\u001b[39m \u001b[38;5;241m1\u001b[39m:\n\u001b[0;32m---> 95\u001b[0m     \u001b[38;5;28;43mself\u001b[39;49m\u001b[38;5;241;43m.\u001b[39;49m\u001b[43mprogbar\u001b[49m\u001b[38;5;241;43m.\u001b[39;49m\u001b[43mupdate\u001b[49m\u001b[43m(\u001b[49m\u001b[38;5;28;43mself\u001b[39;49m\u001b[38;5;241;43m.\u001b[39;49m\u001b[43mseen\u001b[49m\u001b[43m,\u001b[49m\u001b[43m \u001b[49m\u001b[38;5;28;43mlist\u001b[39;49m\u001b[43m(\u001b[49m\u001b[43mlogs\u001b[49m\u001b[38;5;241;43m.\u001b[39;49m\u001b[43mitems\u001b[49m\u001b[43m(\u001b[49m\u001b[43m)\u001b[49m\u001b[43m)\u001b[49m\u001b[43m,\u001b[49m\u001b[43m \u001b[49m\u001b[43mfinalize\u001b[49m\u001b[38;5;241;43m=\u001b[39;49m\u001b[38;5;28;43;01mFalse\u001b[39;49;00m\u001b[43m)\u001b[49m\n",
      "File \u001b[0;32m~/Desktop/Projects/.venv/lib/python3.11/site-packages/keras/src/utils/progbar.py:163\u001b[0m, in \u001b[0;36mProgbar.update\u001b[0;34m(self, current, values, finalize)\u001b[0m\n\u001b[1;32m    160\u001b[0m info \u001b[38;5;241m+\u001b[39m\u001b[38;5;241m=\u001b[39m \u001b[38;5;124mf\u001b[39m\u001b[38;5;124m\"\u001b[39m\u001b[38;5;124m - \u001b[39m\u001b[38;5;132;01m{\u001b[39;00mk\u001b[38;5;132;01m}\u001b[39;00m\u001b[38;5;124m:\u001b[39m\u001b[38;5;124m\"\u001b[39m\n\u001b[1;32m    161\u001b[0m \u001b[38;5;28;01mif\u001b[39;00m \u001b[38;5;28misinstance\u001b[39m(\u001b[38;5;28mself\u001b[39m\u001b[38;5;241m.\u001b[39m_values[k], \u001b[38;5;28mlist\u001b[39m):\n\u001b[1;32m    162\u001b[0m     avg \u001b[38;5;241m=\u001b[39m backend\u001b[38;5;241m.\u001b[39mconvert_to_numpy(\n\u001b[0;32m--> 163\u001b[0m         \u001b[43mbackend\u001b[49m\u001b[38;5;241;43m.\u001b[39;49m\u001b[43mnumpy\u001b[49m\u001b[38;5;241;43m.\u001b[39;49m\u001b[43mmean\u001b[49m\u001b[43m(\u001b[49m\n\u001b[1;32m    164\u001b[0m \u001b[43m            \u001b[49m\u001b[38;5;28;43mself\u001b[39;49m\u001b[38;5;241;43m.\u001b[39;49m\u001b[43m_values\u001b[49m\u001b[43m[\u001b[49m\u001b[43mk\u001b[49m\u001b[43m]\u001b[49m\u001b[43m[\u001b[49m\u001b[38;5;241;43m0\u001b[39;49m\u001b[43m]\u001b[49m\u001b[43m \u001b[49m\u001b[38;5;241;43m/\u001b[39;49m\u001b[43m \u001b[49m\u001b[38;5;28;43mmax\u001b[39;49m\u001b[43m(\u001b[49m\u001b[38;5;241;43m1\u001b[39;49m\u001b[43m,\u001b[49m\u001b[43m \u001b[49m\u001b[38;5;28;43mself\u001b[39;49m\u001b[38;5;241;43m.\u001b[39;49m\u001b[43m_values\u001b[49m\u001b[43m[\u001b[49m\u001b[43mk\u001b[49m\u001b[43m]\u001b[49m\u001b[43m[\u001b[49m\u001b[38;5;241;43m1\u001b[39;49m\u001b[43m]\u001b[49m\u001b[43m)\u001b[49m\n\u001b[1;32m    165\u001b[0m \u001b[43m        \u001b[49m\u001b[43m)\u001b[49m\n\u001b[1;32m    166\u001b[0m     )\n\u001b[1;32m    167\u001b[0m     avg \u001b[38;5;241m=\u001b[39m \u001b[38;5;28mfloat\u001b[39m(avg)\n\u001b[1;32m    168\u001b[0m     \u001b[38;5;28;01mif\u001b[39;00m \u001b[38;5;28mabs\u001b[39m(avg) \u001b[38;5;241m>\u001b[39m \u001b[38;5;241m1e-3\u001b[39m:\n",
      "File \u001b[0;32m~/Desktop/Projects/.venv/lib/python3.11/site-packages/keras/src/backend/tensorflow/numpy.py:597\u001b[0m, in \u001b[0;36mmean\u001b[0;34m(x, axis, keepdims)\u001b[0m\n\u001b[1;32m    595\u001b[0m \u001b[38;5;28;01melse\u001b[39;00m:\n\u001b[1;32m    596\u001b[0m     result_dtype \u001b[38;5;241m=\u001b[39m ori_dtype\n\u001b[0;32m--> 597\u001b[0m output \u001b[38;5;241m=\u001b[39m \u001b[43mtf\u001b[49m\u001b[38;5;241;43m.\u001b[39;49m\u001b[43mreduce_mean\u001b[49m\u001b[43m(\u001b[49m\n\u001b[1;32m    598\u001b[0m \u001b[43m    \u001b[49m\u001b[43mtf\u001b[49m\u001b[38;5;241;43m.\u001b[39;49m\u001b[43mcast\u001b[49m\u001b[43m(\u001b[49m\u001b[43mx\u001b[49m\u001b[43m,\u001b[49m\u001b[43m \u001b[49m\u001b[43mcompute_dtype\u001b[49m\u001b[43m)\u001b[49m\u001b[43m,\u001b[49m\u001b[43m \u001b[49m\u001b[43maxis\u001b[49m\u001b[38;5;241;43m=\u001b[39;49m\u001b[43maxis\u001b[49m\u001b[43m,\u001b[49m\u001b[43m \u001b[49m\u001b[43mkeepdims\u001b[49m\u001b[38;5;241;43m=\u001b[39;49m\u001b[43mkeepdims\u001b[49m\n\u001b[1;32m    599\u001b[0m \u001b[43m\u001b[49m\u001b[43m)\u001b[49m\n\u001b[1;32m    600\u001b[0m \u001b[38;5;28;01mreturn\u001b[39;00m tf\u001b[38;5;241m.\u001b[39mcast(output, result_dtype)\n",
      "File \u001b[0;32m~/Desktop/Projects/.venv/lib/python3.11/site-packages/tensorflow/python/ops/weak_tensor_ops.py:88\u001b[0m, in \u001b[0;36mweak_tensor_unary_op_wrapper.<locals>.wrapper\u001b[0;34m(*args, **kwargs)\u001b[0m\n\u001b[1;32m     86\u001b[0m \u001b[38;5;28;01mdef\u001b[39;00m\u001b[38;5;250m \u001b[39m\u001b[38;5;21mwrapper\u001b[39m(\u001b[38;5;241m*\u001b[39margs, \u001b[38;5;241m*\u001b[39m\u001b[38;5;241m*\u001b[39mkwargs):\n\u001b[1;32m     87\u001b[0m   \u001b[38;5;28;01mif\u001b[39;00m \u001b[38;5;129;01mnot\u001b[39;00m ops\u001b[38;5;241m.\u001b[39mis_auto_dtype_conversion_enabled():\n\u001b[0;32m---> 88\u001b[0m     \u001b[38;5;28;01mreturn\u001b[39;00m \u001b[43mop\u001b[49m\u001b[43m(\u001b[49m\u001b[38;5;241;43m*\u001b[39;49m\u001b[43margs\u001b[49m\u001b[43m,\u001b[49m\u001b[43m \u001b[49m\u001b[38;5;241;43m*\u001b[39;49m\u001b[38;5;241;43m*\u001b[39;49m\u001b[43mkwargs\u001b[49m\u001b[43m)\u001b[49m\n\u001b[1;32m     89\u001b[0m   bound_arguments \u001b[38;5;241m=\u001b[39m signature\u001b[38;5;241m.\u001b[39mbind(\u001b[38;5;241m*\u001b[39margs, \u001b[38;5;241m*\u001b[39m\u001b[38;5;241m*\u001b[39mkwargs)\n\u001b[1;32m     90\u001b[0m   bound_arguments\u001b[38;5;241m.\u001b[39mapply_defaults()\n",
      "File \u001b[0;32m~/Desktop/Projects/.venv/lib/python3.11/site-packages/tensorflow/python/util/traceback_utils.py:150\u001b[0m, in \u001b[0;36mfilter_traceback.<locals>.error_handler\u001b[0;34m(*args, **kwargs)\u001b[0m\n\u001b[1;32m    148\u001b[0m filtered_tb \u001b[38;5;241m=\u001b[39m \u001b[38;5;28;01mNone\u001b[39;00m\n\u001b[1;32m    149\u001b[0m \u001b[38;5;28;01mtry\u001b[39;00m:\n\u001b[0;32m--> 150\u001b[0m   \u001b[38;5;28;01mreturn\u001b[39;00m \u001b[43mfn\u001b[49m\u001b[43m(\u001b[49m\u001b[38;5;241;43m*\u001b[39;49m\u001b[43margs\u001b[49m\u001b[43m,\u001b[49m\u001b[43m \u001b[49m\u001b[38;5;241;43m*\u001b[39;49m\u001b[38;5;241;43m*\u001b[39;49m\u001b[43mkwargs\u001b[49m\u001b[43m)\u001b[49m\n\u001b[1;32m    151\u001b[0m \u001b[38;5;28;01mexcept\u001b[39;00m \u001b[38;5;167;01mException\u001b[39;00m \u001b[38;5;28;01mas\u001b[39;00m e:\n\u001b[1;32m    152\u001b[0m   filtered_tb \u001b[38;5;241m=\u001b[39m _process_traceback_frames(e\u001b[38;5;241m.\u001b[39m__traceback__)\n",
      "File \u001b[0;32m~/Desktop/Projects/.venv/lib/python3.11/site-packages/tensorflow/python/util/dispatch.py:1260\u001b[0m, in \u001b[0;36madd_dispatch_support.<locals>.decorator.<locals>.op_dispatch_handler\u001b[0;34m(*args, **kwargs)\u001b[0m\n\u001b[1;32m   1258\u001b[0m \u001b[38;5;66;03m# Fallback dispatch system (dispatch v1):\u001b[39;00m\n\u001b[1;32m   1259\u001b[0m \u001b[38;5;28;01mtry\u001b[39;00m:\n\u001b[0;32m-> 1260\u001b[0m   \u001b[38;5;28;01mreturn\u001b[39;00m \u001b[43mdispatch_target\u001b[49m\u001b[43m(\u001b[49m\u001b[38;5;241;43m*\u001b[39;49m\u001b[43margs\u001b[49m\u001b[43m,\u001b[49m\u001b[43m \u001b[49m\u001b[38;5;241;43m*\u001b[39;49m\u001b[38;5;241;43m*\u001b[39;49m\u001b[43mkwargs\u001b[49m\u001b[43m)\u001b[49m\n\u001b[1;32m   1261\u001b[0m \u001b[38;5;28;01mexcept\u001b[39;00m (\u001b[38;5;167;01mTypeError\u001b[39;00m, \u001b[38;5;167;01mValueError\u001b[39;00m):\n\u001b[1;32m   1262\u001b[0m   \u001b[38;5;66;03m# Note: convert_to_eager_tensor currently raises a ValueError, not a\u001b[39;00m\n\u001b[1;32m   1263\u001b[0m   \u001b[38;5;66;03m# TypeError, when given unexpected types.  So we need to catch both.\u001b[39;00m\n\u001b[1;32m   1264\u001b[0m   result \u001b[38;5;241m=\u001b[39m dispatch(op_dispatch_handler, args, kwargs)\n",
      "File \u001b[0;32m~/Desktop/Projects/.venv/lib/python3.11/site-packages/tensorflow/python/ops/math_ops.py:2573\u001b[0m, in \u001b[0;36mreduce_mean\u001b[0;34m(input_tensor, axis, keepdims, name)\u001b[0m\n\u001b[1;32m   2520\u001b[0m \u001b[38;5;250m\u001b[39m\u001b[38;5;124;03m\"\"\"Computes the mean of elements across dimensions of a tensor.\u001b[39;00m\n\u001b[1;32m   2521\u001b[0m \n\u001b[1;32m   2522\u001b[0m \u001b[38;5;124;03mReduces `input_tensor` along the dimensions given in `axis` by computing the\u001b[39;00m\n\u001b[0;32m   (...)\u001b[0m\n\u001b[1;32m   2567\u001b[0m \u001b[38;5;124;03m@end_compatibility\u001b[39;00m\n\u001b[1;32m   2568\u001b[0m \u001b[38;5;124;03m\"\"\"\u001b[39;00m\n\u001b[1;32m   2569\u001b[0m keepdims \u001b[38;5;241m=\u001b[39m \u001b[38;5;28;01mFalse\u001b[39;00m \u001b[38;5;28;01mif\u001b[39;00m keepdims \u001b[38;5;129;01mis\u001b[39;00m \u001b[38;5;28;01mNone\u001b[39;00m \u001b[38;5;28;01melse\u001b[39;00m \u001b[38;5;28mbool\u001b[39m(keepdims)\n\u001b[1;32m   2570\u001b[0m \u001b[38;5;28;01mreturn\u001b[39;00m _may_reduce_to_scalar(\n\u001b[1;32m   2571\u001b[0m     keepdims, axis,\n\u001b[1;32m   2572\u001b[0m     gen_math_ops\u001b[38;5;241m.\u001b[39mmean(\n\u001b[0;32m-> 2573\u001b[0m         input_tensor, \u001b[43m_ReductionDims\u001b[49m\u001b[43m(\u001b[49m\u001b[43minput_tensor\u001b[49m\u001b[43m,\u001b[49m\u001b[43m \u001b[49m\u001b[43maxis\u001b[49m\u001b[43m)\u001b[49m, keepdims,\n\u001b[1;32m   2574\u001b[0m         name\u001b[38;5;241m=\u001b[39mname))\n",
      "File \u001b[0;32m~/Desktop/Projects/.venv/lib/python3.11/site-packages/tensorflow/python/ops/math_ops.py:2077\u001b[0m, in \u001b[0;36m_ReductionDims\u001b[0;34m(x, axis)\u001b[0m\n\u001b[1;32m   2074\u001b[0m   \u001b[38;5;28;01mreturn\u001b[39;00m constant_op\u001b[38;5;241m.\u001b[39mconstant(np\u001b[38;5;241m.\u001b[39marange(x_rank, dtype\u001b[38;5;241m=\u001b[39mnp\u001b[38;5;241m.\u001b[39mint32))\n\u001b[1;32m   2075\u001b[0m \u001b[38;5;28;01melse\u001b[39;00m:\n\u001b[1;32m   2076\u001b[0m   \u001b[38;5;66;03m# Otherwise, we rely on Range and Rank to do the right thing at run-time.\u001b[39;00m\n\u001b[0;32m-> 2077\u001b[0m   \u001b[38;5;28;01mreturn\u001b[39;00m \u001b[38;5;28;43mrange\u001b[39;49m\u001b[43m(\u001b[49m\u001b[38;5;241;43m0\u001b[39;49m\u001b[43m,\u001b[49m\u001b[43m \u001b[49m\u001b[43marray_ops\u001b[49m\u001b[38;5;241;43m.\u001b[39;49m\u001b[43mrank\u001b[49m\u001b[43m(\u001b[49m\u001b[43mx\u001b[49m\u001b[43m)\u001b[49m\u001b[43m)\u001b[49m\n",
      "File \u001b[0;32m~/Desktop/Projects/.venv/lib/python3.11/site-packages/tensorflow/python/util/traceback_utils.py:150\u001b[0m, in \u001b[0;36mfilter_traceback.<locals>.error_handler\u001b[0;34m(*args, **kwargs)\u001b[0m\n\u001b[1;32m    148\u001b[0m filtered_tb \u001b[38;5;241m=\u001b[39m \u001b[38;5;28;01mNone\u001b[39;00m\n\u001b[1;32m    149\u001b[0m \u001b[38;5;28;01mtry\u001b[39;00m:\n\u001b[0;32m--> 150\u001b[0m   \u001b[38;5;28;01mreturn\u001b[39;00m \u001b[43mfn\u001b[49m\u001b[43m(\u001b[49m\u001b[38;5;241;43m*\u001b[39;49m\u001b[43margs\u001b[49m\u001b[43m,\u001b[49m\u001b[43m \u001b[49m\u001b[38;5;241;43m*\u001b[39;49m\u001b[38;5;241;43m*\u001b[39;49m\u001b[43mkwargs\u001b[49m\u001b[43m)\u001b[49m\n\u001b[1;32m    151\u001b[0m \u001b[38;5;28;01mexcept\u001b[39;00m \u001b[38;5;167;01mException\u001b[39;00m \u001b[38;5;28;01mas\u001b[39;00m e:\n\u001b[1;32m    152\u001b[0m   filtered_tb \u001b[38;5;241m=\u001b[39m _process_traceback_frames(e\u001b[38;5;241m.\u001b[39m__traceback__)\n",
      "File \u001b[0;32m~/Desktop/Projects/.venv/lib/python3.11/site-packages/tensorflow/python/util/dispatch.py:1260\u001b[0m, in \u001b[0;36madd_dispatch_support.<locals>.decorator.<locals>.op_dispatch_handler\u001b[0;34m(*args, **kwargs)\u001b[0m\n\u001b[1;32m   1258\u001b[0m \u001b[38;5;66;03m# Fallback dispatch system (dispatch v1):\u001b[39;00m\n\u001b[1;32m   1259\u001b[0m \u001b[38;5;28;01mtry\u001b[39;00m:\n\u001b[0;32m-> 1260\u001b[0m   \u001b[38;5;28;01mreturn\u001b[39;00m \u001b[43mdispatch_target\u001b[49m\u001b[43m(\u001b[49m\u001b[38;5;241;43m*\u001b[39;49m\u001b[43margs\u001b[49m\u001b[43m,\u001b[49m\u001b[43m \u001b[49m\u001b[38;5;241;43m*\u001b[39;49m\u001b[38;5;241;43m*\u001b[39;49m\u001b[43mkwargs\u001b[49m\u001b[43m)\u001b[49m\n\u001b[1;32m   1261\u001b[0m \u001b[38;5;28;01mexcept\u001b[39;00m (\u001b[38;5;167;01mTypeError\u001b[39;00m, \u001b[38;5;167;01mValueError\u001b[39;00m):\n\u001b[1;32m   1262\u001b[0m   \u001b[38;5;66;03m# Note: convert_to_eager_tensor currently raises a ValueError, not a\u001b[39;00m\n\u001b[1;32m   1263\u001b[0m   \u001b[38;5;66;03m# TypeError, when given unexpected types.  So we need to catch both.\u001b[39;00m\n\u001b[1;32m   1264\u001b[0m   result \u001b[38;5;241m=\u001b[39m dispatch(op_dispatch_handler, args, kwargs)\n",
      "File \u001b[0;32m~/Desktop/Projects/.venv/lib/python3.11/site-packages/tensorflow/python/ops/math_ops.py:2044\u001b[0m, in \u001b[0;36mrange\u001b[0;34m(start, limit, delta, dtype, name)\u001b[0m\n\u001b[1;32m   2040\u001b[0m   inferred_dtype \u001b[38;5;241m=\u001b[39m dtype\n\u001b[1;32m   2041\u001b[0m \u001b[38;5;66;03m# Always try to perform a cast even when start/limit/delta are already\u001b[39;00m\n\u001b[1;32m   2042\u001b[0m \u001b[38;5;66;03m# tensors. This will resolve the case where start/limit/delta's original's\u001b[39;00m\n\u001b[1;32m   2043\u001b[0m \u001b[38;5;66;03m# dtype is different from provided dtype.\u001b[39;00m\n\u001b[0;32m-> 2044\u001b[0m start \u001b[38;5;241m=\u001b[39m \u001b[43mcast\u001b[49m\u001b[43m(\u001b[49m\u001b[43mstart\u001b[49m\u001b[43m,\u001b[49m\u001b[43m \u001b[49m\u001b[43minferred_dtype\u001b[49m\u001b[43m)\u001b[49m\n\u001b[1;32m   2045\u001b[0m limit \u001b[38;5;241m=\u001b[39m cast(limit, inferred_dtype)\n\u001b[1;32m   2046\u001b[0m delta \u001b[38;5;241m=\u001b[39m cast(delta, inferred_dtype)\n",
      "File \u001b[0;32m~/Desktop/Projects/.venv/lib/python3.11/site-packages/tensorflow/python/util/traceback_utils.py:150\u001b[0m, in \u001b[0;36mfilter_traceback.<locals>.error_handler\u001b[0;34m(*args, **kwargs)\u001b[0m\n\u001b[1;32m    148\u001b[0m filtered_tb \u001b[38;5;241m=\u001b[39m \u001b[38;5;28;01mNone\u001b[39;00m\n\u001b[1;32m    149\u001b[0m \u001b[38;5;28;01mtry\u001b[39;00m:\n\u001b[0;32m--> 150\u001b[0m   \u001b[38;5;28;01mreturn\u001b[39;00m \u001b[43mfn\u001b[49m\u001b[43m(\u001b[49m\u001b[38;5;241;43m*\u001b[39;49m\u001b[43margs\u001b[49m\u001b[43m,\u001b[49m\u001b[43m \u001b[49m\u001b[38;5;241;43m*\u001b[39;49m\u001b[38;5;241;43m*\u001b[39;49m\u001b[43mkwargs\u001b[49m\u001b[43m)\u001b[49m\n\u001b[1;32m    151\u001b[0m \u001b[38;5;28;01mexcept\u001b[39;00m \u001b[38;5;167;01mException\u001b[39;00m \u001b[38;5;28;01mas\u001b[39;00m e:\n\u001b[1;32m    152\u001b[0m   filtered_tb \u001b[38;5;241m=\u001b[39m _process_traceback_frames(e\u001b[38;5;241m.\u001b[39m__traceback__)\n",
      "File \u001b[0;32m~/Desktop/Projects/.venv/lib/python3.11/site-packages/tensorflow/python/util/dispatch.py:1260\u001b[0m, in \u001b[0;36madd_dispatch_support.<locals>.decorator.<locals>.op_dispatch_handler\u001b[0;34m(*args, **kwargs)\u001b[0m\n\u001b[1;32m   1258\u001b[0m \u001b[38;5;66;03m# Fallback dispatch system (dispatch v1):\u001b[39;00m\n\u001b[1;32m   1259\u001b[0m \u001b[38;5;28;01mtry\u001b[39;00m:\n\u001b[0;32m-> 1260\u001b[0m   \u001b[38;5;28;01mreturn\u001b[39;00m \u001b[43mdispatch_target\u001b[49m\u001b[43m(\u001b[49m\u001b[38;5;241;43m*\u001b[39;49m\u001b[43margs\u001b[49m\u001b[43m,\u001b[49m\u001b[43m \u001b[49m\u001b[38;5;241;43m*\u001b[39;49m\u001b[38;5;241;43m*\u001b[39;49m\u001b[43mkwargs\u001b[49m\u001b[43m)\u001b[49m\n\u001b[1;32m   1261\u001b[0m \u001b[38;5;28;01mexcept\u001b[39;00m (\u001b[38;5;167;01mTypeError\u001b[39;00m, \u001b[38;5;167;01mValueError\u001b[39;00m):\n\u001b[1;32m   1262\u001b[0m   \u001b[38;5;66;03m# Note: convert_to_eager_tensor currently raises a ValueError, not a\u001b[39;00m\n\u001b[1;32m   1263\u001b[0m   \u001b[38;5;66;03m# TypeError, when given unexpected types.  So we need to catch both.\u001b[39;00m\n\u001b[1;32m   1264\u001b[0m   result \u001b[38;5;241m=\u001b[39m dispatch(op_dispatch_handler, args, kwargs)\n",
      "File \u001b[0;32m~/Desktop/Projects/.venv/lib/python3.11/site-packages/tensorflow/python/ops/math_ops.py:998\u001b[0m, in \u001b[0;36mcast\u001b[0;34m(x, dtype, name)\u001b[0m\n\u001b[1;32m    944\u001b[0m \u001b[38;5;250m\u001b[39m\u001b[38;5;124;03m\"\"\"Casts a tensor to a new type.\u001b[39;00m\n\u001b[1;32m    945\u001b[0m \n\u001b[1;32m    946\u001b[0m \u001b[38;5;124;03mThe operation casts `x` (in case of `Tensor`) or `x.values`\u001b[39;00m\n\u001b[0;32m   (...)\u001b[0m\n\u001b[1;32m    993\u001b[0m \n\u001b[1;32m    994\u001b[0m \u001b[38;5;124;03m\"\"\"\u001b[39;00m\n\u001b[1;32m    995\u001b[0m base_type \u001b[38;5;241m=\u001b[39m dtypes\u001b[38;5;241m.\u001b[39mas_dtype(dtype)\u001b[38;5;241m.\u001b[39mbase_dtype\n\u001b[1;32m    996\u001b[0m \u001b[38;5;28;01mif\u001b[39;00m (\n\u001b[1;32m    997\u001b[0m     \u001b[38;5;28misinstance\u001b[39m(x, tensor_lib\u001b[38;5;241m.\u001b[39mTensor) \u001b[38;5;129;01mor\u001b[39;00m _pywrap_utils\u001b[38;5;241m.\u001b[39mIsResourceVariable(x)\n\u001b[0;32m--> 998\u001b[0m ) \u001b[38;5;129;01mand\u001b[39;00m base_type \u001b[38;5;241m==\u001b[39m \u001b[43mx\u001b[49m\u001b[38;5;241;43m.\u001b[39;49m\u001b[43mdtype\u001b[49m:\n\u001b[1;32m    999\u001b[0m   \u001b[38;5;28;01mreturn\u001b[39;00m x\n\u001b[1;32m   1000\u001b[0m \u001b[38;5;28;01mwith\u001b[39;00m ops\u001b[38;5;241m.\u001b[39mname_scope(name, \u001b[38;5;124m\"\u001b[39m\u001b[38;5;124mCast\u001b[39m\u001b[38;5;124m\"\u001b[39m, [x]) \u001b[38;5;28;01mas\u001b[39;00m name:\n",
      "File \u001b[0;32m~/Desktop/Projects/.venv/lib/python3.11/site-packages/tensorflow/python/framework/ops.py:385\u001b[0m, in \u001b[0;36m_EagerTensorBase.dtype\u001b[0;34m(self)\u001b[0m\n\u001b[1;32m    382\u001b[0m   \u001b[38;5;28;01mexcept\u001b[39;00m core\u001b[38;5;241m.\u001b[39m_NotOkStatusException \u001b[38;5;28;01mas\u001b[39;00m e:  \u001b[38;5;66;03m# pylint: disable=protected-access\u001b[39;00m\n\u001b[1;32m    383\u001b[0m     \u001b[38;5;28;01mraise\u001b[39;00m core\u001b[38;5;241m.\u001b[39m_status_to_exception(e) \u001b[38;5;28;01mfrom\u001b[39;00m\u001b[38;5;250m \u001b[39m\u001b[38;5;28;01mNone\u001b[39;00m  \u001b[38;5;66;03m# pylint: disable=protected-access\u001b[39;00m\n\u001b[0;32m--> 385\u001b[0m \u001b[38;5;129m@property\u001b[39m\n\u001b[1;32m    386\u001b[0m \u001b[38;5;28;01mdef\u001b[39;00m\u001b[38;5;250m \u001b[39m\u001b[38;5;21mdtype\u001b[39m(\u001b[38;5;28mself\u001b[39m) \u001b[38;5;241m-\u001b[39m\u001b[38;5;241m>\u001b[39m dtypes\u001b[38;5;241m.\u001b[39mDType:\n\u001b[1;32m    387\u001b[0m   \u001b[38;5;66;03m# Note: using the intern table directly here as this is\u001b[39;00m\n\u001b[1;32m    388\u001b[0m   \u001b[38;5;66;03m# performance-sensitive in some models.\u001b[39;00m\n\u001b[1;32m    389\u001b[0m   \u001b[38;5;28;01mreturn\u001b[39;00m dtypes\u001b[38;5;241m.\u001b[39m_INTERN_TABLE[\u001b[38;5;28mself\u001b[39m\u001b[38;5;241m.\u001b[39m_datatype_enum()]  \u001b[38;5;66;03m# pylint: disable=protected-access\u001b[39;00m\n\u001b[1;32m    391\u001b[0m \u001b[38;5;28;01mdef\u001b[39;00m\u001b[38;5;250m \u001b[39m\u001b[38;5;21mnumpy\u001b[39m(\u001b[38;5;28mself\u001b[39m) \u001b[38;5;241m-\u001b[39m\u001b[38;5;241m>\u001b[39m npt\u001b[38;5;241m.\u001b[39mArrayLike:\n",
      "\u001b[0;31mKeyboardInterrupt\u001b[0m: "
     ]
    }
   ],
   "source": [
    "model.fit(X_train, Y_train, batch_size=32, epochs=25, validation_split=0.1, shuffle=True)"
   ]
  },
  {
   "cell_type": "code",
   "execution_count": 1,
   "metadata": {},
   "outputs": [
    {
     "name": "stderr",
     "output_type": "stream",
     "text": [
      "2025-03-04 16:02:29.052253: I tensorflow/core/platform/cpu_feature_guard.cc:210] This TensorFlow binary is optimized to use available CPU instructions in performance-critical operations.\n",
      "To enable the following instructions: AVX2 FMA, in other operations, rebuild TensorFlow with the appropriate compiler flags.\n"
     ]
    }
   ],
   "source": [
    "from keras.models import load_model\n",
    "model = load_model('ImagRec2.keras')\n",
    "# model.save('ImagRec2.keras')"
   ]
  },
  {
   "cell_type": "code",
   "execution_count": 7,
   "metadata": {},
   "outputs": [
    {
     "name": "stdout",
     "output_type": "stream",
     "text": [
      "\u001b[1m313/313\u001b[0m \u001b[32m━━━━━━━━━━━━━━━━━━━━\u001b[0m\u001b[37m\u001b[0m \u001b[1m3s\u001b[0m 10ms/step - accuracy: 0.7601 - loss: 0.7537\n",
      "Точность работы на тестовых данных: 75.96%\n"
     ]
    }
   ],
   "source": [
    "scores = model.evaluate(X_test, Y_test)\n",
    "print(\"Точность работы на тестовых данных: %.2f%%\" % (scores[1]*100))"
   ]
  },
  {
   "cell_type": "code",
   "execution_count": 8,
   "metadata": {},
   "outputs": [
    {
     "name": "stdout",
     "output_type": "stream",
     "text": [
      "\u001b[1m313/313\u001b[0m \u001b[32m━━━━━━━━━━━━━━━━━━━━\u001b[0m\u001b[37m\u001b[0m \u001b[1m4s\u001b[0m 11ms/step\n"
     ]
    }
   ],
   "source": [
    "predictions = model.predict(X_test)"
   ]
  },
  {
   "cell_type": "code",
   "execution_count": 9,
   "metadata": {},
   "outputs": [
    {
     "name": "stdout",
     "output_type": "stream",
     "text": [
      "prediction:  0 , real:  0\n"
     ]
    },
    {
     "data": {
      "image/png": "[encoded data removed]",
      "text/plain": [
       "<Figure size 640x480 with 1 Axes>"
      ]
     },
     "metadata": {},
     "output_type": "display_data"
    }
   ],
   "source": [
    "n = 10\n",
    "im1 = np.argmax(predictions[n])\n",
    "lab1 = y_test0[n][0]\n",
    "print('prediction: ', im1, ', real: ', lab1)\n",
    "plt.imshow(X_test0[n])\n",
    "plt.show()"
   ]
  },
  {
   "cell_type": "code",
   "execution_count": 10,
   "metadata": {},
   "outputs": [
    {
     "name": "stdout",
     "output_type": "stream",
     "text": [
      "[[[[ 2.87571549e-01  1.23674333e+00  3.29110073e-03  1.13579527e-01\n",
      "    -2.20565543e-01 -3.05583812e-02 -1.48183823e-01 -4.70409133e-02\n",
      "    -5.27342558e-01 -2.84856051e-01  2.24122077e-01 -1.98036417e-01\n",
      "     2.95242846e-01  1.01652309e-01 -1.35684475e-01  3.68855208e-01\n",
      "     8.02567527e-02 -1.86709166e-01 -5.07643521e-01 -1.05522707e-01\n",
      "    -1.04760624e-01 -1.21252358e-01 -1.15367748e-01  1.98619887e-01\n",
      "     2.52892859e-02  3.65805387e-01 -6.33678911e-03 -1.35846362e-01\n",
      "     6.29993141e-01  5.23308516e-01  6.43475279e-02 -2.71880850e-02]\n",
      "   [ 2.24294141e-01  6.40280871e-03 -1.25649631e-01 -4.77051854e-01\n",
      "     7.88118467e-02 -3.75407189e-01  4.12309403e-03 -8.16548392e-02\n",
      "    -2.18423799e-01 -1.51696838e-02 -1.54702729e-02 -3.29971104e-03\n",
      "    -2.83573627e-01 -1.16275117e-01 -3.51288199e-01 -2.61252940e-01\n",
      "    -6.19514957e-02 -1.07923754e-01 -4.71448869e-01  5.01302257e-03\n",
      "     1.08563819e-03  1.34126708e-01  7.70513201e-03  5.80502041e-02\n",
      "     6.35895208e-02  2.29063958e-01 -1.30275087e-02  7.44821668e-01\n",
      "     7.16470659e-01  8.27864110e-01 -9.69965085e-02  5.30612886e-01]\n",
      "   [ 3.81594956e-01  8.16198468e-01 -3.68099064e-02 -4.40009087e-01\n",
      "     2.89775252e-01  3.12188417e-01 -2.56394269e-03 -7.65564293e-02\n",
      "     9.39230844e-02  6.44314945e-01  5.86025298e-01  1.35820225e-01\n",
      "    -2.33142659e-01  4.70832102e-02 -1.25620127e-01  5.16795143e-02\n",
      "     2.34400630e-02 -2.28326738e-01 -4.73911285e-01  8.62122700e-02\n",
      "     6.28832951e-02 -3.24987024e-02 -3.93274166e-02 -7.50073195e-02\n",
      "    -1.04304388e-01  4.34466779e-01 -1.33304670e-01  9.27556604e-02\n",
      "     3.05975527e-01 -4.06717286e-02  1.92029364e-02  8.65672469e-01]]\n",
      "\n",
      "  [[-2.42394120e-01  1.14331901e+00  6.07368257e-03  6.75416291e-01\n",
      "    -3.74361545e-01  9.30646181e-01 -2.10005030e-01 -5.66188514e-01\n",
      "     1.39258832e-01 -9.58686650e-01  1.14794001e-01 -8.84667784e-02\n",
      "    -2.17861220e-01 -4.62042391e-02 -5.15414238e-01  2.01136038e-01\n",
      "    -5.02976835e-01 -1.18806502e-02 -4.49202329e-01 -8.51158723e-02\n",
      "     3.43996212e-02 -6.68744966e-02  1.08686849e-01  9.27633762e-01\n",
      "    -5.75003065e-02  1.19054645e-01  8.49952921e-02 -9.03164744e-01\n",
      "    -1.43377692e-01  5.39409339e-01 -1.90493509e-01  3.64570469e-01]\n",
      "   [-6.55626833e-01 -7.96521902e-01 -1.13373853e-01  5.28816223e-01\n",
      "     1.48804560e-01  7.02839017e-01 -6.87236413e-02 -3.76335740e-01\n",
      "     9.10046399e-01 -1.03724158e+00 -1.24807164e-01  3.85092869e-02\n",
      "    -5.22559106e-01 -1.11032799e-01 -4.58546340e-01 -5.85255623e-01\n",
      "    -3.97997469e-01  4.81413715e-02 -4.73402798e-01 -3.62776779e-03\n",
      "     5.15673719e-02 -7.10020512e-02 -1.45917669e-01  1.54021904e-01\n",
      "    -1.05698884e-01 -1.39401063e-01  4.07367945e-02  2.24445030e-01\n",
      "    -1.03560090e-02  1.02155781e+00 -1.51880100e-01  9.38375771e-01]\n",
      "   [-3.34100634e-01 -5.98715283e-02 -1.05828464e-01  7.40152895e-01\n",
      "     1.21376626e-01  1.58593774e+00 -5.47811575e-02 -2.19085634e-01\n",
      "     1.31775129e+00 -5.28800070e-01  5.69895387e-01  1.60844401e-01\n",
      "    -4.19924289e-01 -6.77078441e-02 -3.18260431e-01  8.65209699e-02\n",
      "    -3.30599815e-01 -1.19549148e-01 -3.27847183e-01 -1.33545488e-01\n",
      "     4.57280129e-02  7.49862716e-02 -5.51435277e-02  2.22929776e-01\n",
      "     1.19852694e-02 -2.14966387e-01  8.60026386e-03 -5.86498439e-01\n",
      "    -6.05462909e-01 -2.68073827e-02 -2.26575851e-01  1.47110558e+00]]\n",
      "\n",
      "  [[-2.12014481e-01  5.26886463e-01 -1.29672796e-01  9.28232670e-01\n",
      "    -3.30993831e-01  3.13123018e-01 -3.17869455e-01 -2.77313441e-01\n",
      "    -3.37187827e-01 -4.33287799e-01 -3.29800576e-01 -2.24807188e-01\n",
      "     2.01700792e-01  6.57017455e-02 -3.93978179e-01  2.05262601e-01\n",
      "     1.15353890e-01  1.27048746e-01  1.13350675e-01  5.47743887e-02\n",
      "    -8.16888213e-02 -4.01065052e-02  7.65074939e-02  6.82727695e-01\n",
      "    -4.99217845e-02 -3.03965390e-01  5.70830936e-03 -1.33445346e+00\n",
      "    -5.69111288e-01  2.87608862e-01 -1.08899385e-01 -5.48098907e-02]\n",
      "   [-7.15132654e-01 -5.35467982e-01 -3.39007867e-03  7.24000216e-01\n",
      "     8.50757435e-02 -3.40080820e-02 -1.18717872e-01  7.02544898e-02\n",
      "     1.63345769e-01 -1.04520902e-01 -5.62357903e-01 -1.69816643e-01\n",
      "     5.96402526e-01 -8.69008079e-02 -5.46685815e-01 -3.82365763e-01\n",
      "     1.77973062e-02  7.65112787e-02  1.44365385e-01 -1.43689498e-01\n",
      "    -1.30537316e-01 -1.04544863e-01 -1.49270445e-01  6.23123229e-01\n",
      "    -8.32903534e-02 -4.02914017e-01 -7.63209686e-02  1.14947103e-01\n",
      "    -1.72371045e-01  6.75963640e-01  2.48548202e-02 -2.33805925e-01]\n",
      "   [-6.73633456e-01 -3.96441728e-01 -1.10374272e-01  1.07961655e+00\n",
      "     1.26777798e-01  6.45890236e-01  4.79374304e-02  3.61508697e-01\n",
      "     2.20482945e-01  4.41338629e-01 -2.11110767e-02 -2.79707998e-01\n",
      "     5.42707741e-01 -1.37082219e-01 -2.05039695e-01  1.12271816e-01\n",
      "     3.80884737e-01  8.72081965e-02  1.51093915e-01 -7.95473456e-02\n",
      "    -1.02374712e-02  8.21352825e-02 -1.70138419e-01  7.96693206e-01\n",
      "    -7.25280792e-02 -1.88501433e-01 -1.55122519e-01 -2.32944220e-01\n",
      "    -2.62243181e-01 -5.18099815e-02 -1.72579661e-01 -1.56441405e-01]]]\n",
      "\n",
      "\n",
      " [[[ 5.68180859e-01 -3.35973650e-01  4.84640151e-02 -1.26365811e-01\n",
      "    -4.46652211e-02 -4.12795305e-01  1.77867532e-01 -2.46921983e-02\n",
      "    -7.88369000e-01  1.30029321e-01  4.39758450e-01  2.17436016e-01\n",
      "    -6.54852748e-01 -8.37015919e-03 -3.14821631e-01  5.58439732e-01\n",
      "    -6.57516003e-01 -1.45232290e-01 -3.22913051e-01  3.06474976e-03\n",
      "     8.60204250e-02 -4.33854852e-03 -3.82304043e-02  1.64019227e+00\n",
      "     7.00964779e-02  5.23580313e-01 -1.30391121e-01 -4.97843206e-01\n",
      "     8.57615352e-01 -1.15275487e-01  1.34596452e-02 -9.59606826e-01]\n",
      "   [ 7.02525556e-01 -1.51136947e+00  1.24543414e-01 -5.16734719e-01\n",
      "     2.46320799e-01 -5.20530522e-01 -3.31602059e-02  1.47524625e-01\n",
      "    -3.02175820e-01 -8.86386454e-01  2.75715739e-01  1.33926317e-01\n",
      "    -8.36974442e-01 -7.54248351e-02 -5.99203944e-01 -2.69532502e-01\n",
      "    -5.36680341e-01 -2.27414772e-01 -2.88363099e-01  3.75332199e-02\n",
      "    -8.27821940e-02  4.63728532e-02  1.23538285e-01  1.02463913e+00\n",
      "    -3.80190928e-03  4.43259567e-01  6.46959022e-02 -1.67122204e-02\n",
      "     3.53299856e-01  3.37551892e-01  7.71210790e-02 -4.25776988e-01]\n",
      "   [ 1.00667107e+00 -8.51922274e-01  3.27774286e-02 -5.98712564e-01\n",
      "     2.73359746e-01  2.62906730e-01  2.86744416e-01  2.71785587e-01\n",
      "     2.19406918e-01 -7.05334127e-01  8.21309686e-01  2.62173235e-01\n",
      "    -7.36584425e-01 -5.16967140e-02 -3.11673343e-01  9.29490775e-02\n",
      "    -3.45433801e-01 -2.34134510e-01 -1.60651669e-01  7.91986436e-02\n",
      "    -5.58517799e-02 -8.22546035e-02 -5.05230427e-02  9.75533307e-01\n",
      "    -5.68718836e-02  4.01123524e-01 -1.65933669e-01 -1.27455330e+00\n",
      "    -1.72711045e-01 -4.47892398e-01  6.74627572e-02  3.48929971e-01]]\n",
      "\n",
      "  [[-1.22982524e-01  4.62651879e-01  3.34121450e-03 -5.43533750e-02\n",
      "    -3.94441605e-01  1.33183926e-01  1.48610160e-01 -2.94365823e-01\n",
      "    -4.06527936e-01  1.59224844e+00  1.42637804e-01  1.73636481e-01\n",
      "     9.84116569e-02  1.63832791e-02 -1.33874163e-01 -3.68142724e-01\n",
      "    -7.00362325e-01 -2.00406641e-01 -1.55928910e-01  2.24432047e-03\n",
      "     9.50931460e-02 -3.56214680e-02  5.65883927e-02 -7.16183543e-01\n",
      "    -1.25178233e-01 -2.83110589e-02  6.09287471e-02  3.13925505e-01\n",
      "     8.88078213e-01 -6.15435183e-01 -1.61161885e-01 -7.53011823e-01]\n",
      "   [ 4.32198979e-02 -1.59024978e+00  5.67827635e-02 -2.88450211e-01\n",
      "    -2.35245470e-02  1.31400585e-01  2.13131532e-01 -1.45315185e-01\n",
      "     2.18910262e-01  8.80767684e-03 -6.37686327e-02  4.25568491e-01\n",
      "     1.10966615e-01 -1.06780589e-01 -1.69997022e-01 -9.51217294e-01\n",
      "    -5.71073592e-01 -2.69178867e-01 -1.99582815e-01  1.05039828e-01\n",
      "    -6.87570870e-02 -1.07022643e-01  9.95693728e-02 -2.21137953e+00\n",
      "     1.14280418e-01 -2.03628510e-01 -1.25912249e-01  1.42717230e+00\n",
      "     4.28281307e-01 -3.62978488e-01 -7.35501722e-02  3.14664990e-01]\n",
      "   [ 4.18263614e-01 -1.01394355e+00 -8.55681207e-03 -2.08177507e-01\n",
      "     1.18458278e-01  9.64330554e-01  2.80519545e-01  2.71130316e-02\n",
      "     6.44382298e-01 -7.89459348e-02  4.58773673e-01  4.09388721e-01\n",
      "     2.93542653e-01 -1.08975269e-01  1.98821709e-01 -6.04471087e-01\n",
      "    -3.07493865e-01 -5.24977185e-02 -2.02221885e-01  4.82425978e-03\n",
      "    -3.86046618e-03  6.74436316e-02 -1.70778260e-01 -1.70792532e+00\n",
      "     5.22894375e-02 -2.95094233e-02  2.79464084e-03 -4.74577844e-01\n",
      "    -2.72756338e-01 -7.41171539e-01 -1.96350545e-01  1.23596001e+00]]\n",
      "\n",
      "  [[-5.29873073e-01  1.69622648e+00  2.59843525e-02  8.24658126e-02\n",
      "    -2.97739416e-01 -3.29479396e-01 -1.75982684e-01 -8.48485604e-02\n",
      "    -5.80672860e-01  7.74542034e-01 -2.52220064e-01 -1.80780470e-01\n",
      "     7.74165630e-01 -1.07605964e-01 -7.55679086e-02 -1.13938533e-01\n",
      "    -2.55712688e-01  2.23950297e-01  4.05675739e-01 -9.29204971e-02\n",
      "    -1.45574540e-01 -1.00333862e-01 -6.28935080e-03 -5.97198248e-01\n",
      "     2.59417295e-03 -3.69187146e-01  1.00440845e-01 -2.87871003e-01\n",
      "     1.73429623e-01 -5.98933637e-01  2.77988985e-03 -6.64625883e-01]\n",
      "   [-9.74597633e-01  4.05989468e-01  5.61596565e-02  2.54909899e-02\n",
      "    -2.72030503e-01 -3.73050719e-01  7.37385126e-03  3.77189755e-01\n",
      "    -3.37569237e-01 -3.43877375e-01 -6.60168111e-01 -3.04115891e-01\n",
      "     1.13114011e+00 -3.62486988e-02 -6.03475422e-03 -4.74751532e-01\n",
      "    -3.17813069e-01  1.95506811e-01  3.02296519e-01  9.20594707e-02\n",
      "     9.95479226e-02 -7.36768767e-02  3.85075994e-02 -1.02211106e+00\n",
      "    -1.02528386e-01 -3.74691367e-01 -1.05169356e-01  1.18726587e+00\n",
      "    -2.39348829e-01 -2.25794971e-01 -1.12819366e-01 -5.94468892e-01]\n",
      "   [-6.39967442e-01  8.27942371e-01 -1.30171567e-01  9.53329131e-02\n",
      "    -8.46257806e-02  2.18140185e-01  1.03953205e-01  6.62501514e-01\n",
      "    -3.64641100e-02 -2.28900835e-01 -7.76838809e-02 -2.44950831e-01\n",
      "     1.25350833e+00 -9.82047766e-02  2.95672238e-01  5.13392761e-02\n",
      "     1.64361820e-01  2.34582573e-01  2.87460208e-01 -4.11039405e-02\n",
      "    -1.35923281e-01 -3.03677982e-03 -1.62412614e-01 -9.82942700e-01\n",
      "    -1.21353082e-01 -3.82685155e-01 -6.01679878e-03 -1.98485568e-01\n",
      "    -3.01546484e-01 -5.16954958e-01 -6.30010739e-02 -1.12328023e-01]]]\n",
      "\n",
      "\n",
      " [[[-6.51826501e-01 -3.04663867e-01 -4.20054570e-02  2.72385031e-01\n",
      "    -3.65486145e-01 -3.21599334e-01 -4.94665429e-02  9.41954460e-03\n",
      "    -1.43655807e-01  8.48267302e-02  1.16897158e-01 -2.81332999e-01\n",
      "     3.89526039e-02 -2.68776622e-02 -4.13461588e-03  1.81778669e-01\n",
      "     1.72071904e-01 -1.70031548e-01  1.88756093e-01 -1.29975393e-01\n",
      "     3.96092087e-02  3.91193777e-02  1.18122146e-01  2.78842926e-01\n",
      "     8.83524269e-02  5.52991807e-01  4.51685302e-02 -6.13511741e-01\n",
      "     3.51702601e-01 -2.58634955e-01  3.17128748e-01 -4.28948224e-01]\n",
      "   [-3.55229408e-01 -3.51983488e-01 -8.52905661e-02 -1.28344983e-01\n",
      "    -2.41327837e-01 -3.30869526e-01  1.22881062e-01 -2.29813173e-01\n",
      "    -3.31620902e-01 -6.11650705e-01 -1.71226978e-01 -3.11219603e-01\n",
      "    -1.95383742e-01 -1.12561710e-01 -2.40121081e-01 -2.47269377e-01\n",
      "     7.54910707e-02 -1.29377350e-01  1.45216495e-01 -1.04949027e-01\n",
      "    -1.87950525e-02 -6.35788664e-02 -1.41677544e-01  5.42492867e-01\n",
      "    -5.99655975e-03  3.59856039e-01 -2.35717022e-03 -2.43678913e-01\n",
      "    -1.91856220e-01 -1.60239831e-01  2.33467251e-01 -5.99677920e-01]\n",
      "   [ 1.00549333e-01  7.29807496e-01 -7.30396062e-02 -1.68635547e-01\n",
      "    -3.17980279e-03  7.10116178e-02  2.41583794e-01 -1.56405002e-01\n",
      "     1.40774876e-01 -4.00233150e-01  3.02862555e-01 -3.77323151e-01\n",
      "    -7.94040859e-02 -1.02014199e-01  2.02947363e-01 -1.70047596e-01\n",
      "     3.97240102e-01 -2.93551832e-01  8.57070312e-02 -5.17717078e-02\n",
      "     4.17510833e-04 -1.04598980e-02 -1.53696872e-02  5.99039614e-01\n",
      "     1.11081926e-02  3.34767640e-01 -1.42473608e-01 -1.37187111e+00\n",
      "    -5.70262253e-01 -5.64277232e-01  2.26261586e-01  1.63485527e-01]]\n",
      "\n",
      "  [[ 4.10354957e-02 -3.59002173e-01  6.46467656e-02 -1.59015015e-01\n",
      "    -2.44714230e-01 -2.31175303e-01 -4.05524559e-02 -4.44003224e-01\n",
      "    -2.71397203e-01  2.13685536e+00 -1.75412640e-01 -7.89073557e-02\n",
      "    -4.10831064e-01 -1.22141398e-01  3.50747228e-01 -1.67712331e-01\n",
      "     2.99418122e-01 -1.36518970e-01  1.16032466e-01 -3.39459293e-02\n",
      "     3.37051675e-02  9.24029797e-02 -1.32452875e-01 -9.10753846e-01\n",
      "     2.81371456e-02  3.71058472e-02  1.15930595e-01  8.41353476e-01\n",
      "     3.42209220e-01 -6.28297091e-01 -1.00659057e-01 -7.07679749e-01]\n",
      "   [ 2.93608420e-02 -8.33667159e-01 -4.12692092e-02 -4.49062228e-01\n",
      "    -2.00841561e-01 -2.71173000e-01  9.94605422e-02 -3.75229686e-01\n",
      "    -4.16269094e-01  1.01128852e+00 -6.60247862e-01 -3.13224457e-02\n",
      "    -3.13462406e-01 -3.35393324e-02  7.82665014e-02 -6.46459103e-01\n",
      "     3.95424664e-01 -1.70833886e-01  1.51513979e-01 -4.67183217e-02\n",
      "    -1.24000683e-01 -8.18755031e-02  8.24024230e-02 -9.30530787e-01\n",
      "    -1.13892883e-01 -1.38736203e-01  8.88253376e-02  1.42368984e+00\n",
      "    -2.75254995e-01 -2.98492581e-01 -8.85523632e-02 -4.73841041e-01]\n",
      "   [ 7.06463933e-01  2.93347925e-01 -4.84106317e-02 -4.37016666e-01\n",
      "     1.59488879e-02  3.58075827e-01  9.23224762e-02 -8.70580897e-02\n",
      "    -2.03831851e-01  7.82763124e-01 -1.83829233e-01 -6.30021468e-02\n",
      "    -1.61527455e-01 -2.10879426e-02  7.55488336e-01 -2.93141991e-01\n",
      "     7.44517446e-01 -2.29999617e-01 -2.84249689e-02  1.26112968e-01\n",
      "    -1.19273394e-01  9.25566405e-02  8.84030685e-02 -1.73916116e-01\n",
      "    -1.51296249e-02 -2.90346593e-01 -4.51532342e-02 -4.87795025e-01\n",
      "    -6.46321714e-01 -6.11077309e-01  1.18133195e-01  3.65896910e-01]]\n",
      "\n",
      "  [[ 3.04042995e-01  6.69141952e-03 -2.61116284e-03  2.26400435e-01\n",
      "    -2.47844785e-01 -9.05234590e-02 -1.60960495e-01 -2.96878099e-01\n",
      "     2.36234799e-01  2.06928343e-01 -7.40884542e-02  1.23586701e-02\n",
      "    -4.93708670e-01 -1.00666121e-01  4.43549514e-01  8.75791535e-02\n",
      "     1.69992074e-01  2.04272076e-01  6.38944924e-01 -4.06335294e-02\n",
      "     2.07249746e-02 -1.21104158e-01 -5.50947525e-02 -4.57917228e-02\n",
      "     3.76448743e-02 -3.01137298e-01  8.82599875e-02  1.41344443e-01\n",
      "    -3.49227369e-01 -3.71399432e-01 -6.23275116e-02  2.66672224e-01]\n",
      "   [-1.40299365e-01 -1.18207395e-01  3.66703495e-02  1.08169682e-01\n",
      "    -3.72192830e-01 -2.42918938e-01 -6.21443763e-02 -4.75512184e-02\n",
      "    -2.64770895e-01 -7.38628447e-01 -5.85930109e-01 -2.77499199e-01\n",
      "    -8.20328295e-02 -2.20047105e-02  2.21394047e-01 -3.17690015e-01\n",
      "     2.40072981e-01  1.24048628e-01  4.36691612e-01 -1.27121180e-01\n",
      "    -3.90542410e-02  3.05745634e-03 -3.17105129e-02  5.28990924e-01\n",
      "     7.40963668e-02 -2.93138534e-01 -9.99109074e-02  1.04965878e+00\n",
      "    -4.90243942e-01 -1.50896415e-01 -1.91985015e-02 -2.92087525e-01]\n",
      "   [ 1.42194316e-01  6.26799822e-01 -5.32358512e-02  8.34271982e-02\n",
      "    -2.72869408e-01  2.11975783e-01  7.60165080e-02  1.86357141e-01\n",
      "    -2.46619105e-01 -3.77950937e-01 -1.42125845e-01 -3.52977991e-01\n",
      "    -1.69636697e-01  9.07338113e-02  8.54817510e-01  1.07836895e-01\n",
      "     5.36837041e-01  1.97741151e-01  3.71421158e-01  1.63020909e-01\n",
      "     5.43799624e-02  1.35873118e-02  2.63843816e-02  8.50472867e-01\n",
      "    -9.14633945e-02 -4.98625785e-01 -7.95545150e-03 -6.47467554e-01\n",
      "    -3.09839129e-01  5.11676744e-02  2.59354003e-02  1.77252173e-01]]]]\n"
     ]
    }
   ],
   "source": [
    "weights = model.get_weights()[0]\n",
    "print(weights)"
   ]
  }
 ],
 "metadata": {
  "kernelspec": {
   "display_name": ".venv",
   "language": "python",
   "name": "python3"
  },
  "language_info": {
   "codemirror_mode": {
    "name": "ipython",
    "version": 3
   },
   "file_extension": ".py",
   "mimetype": "text/x-python",
   "name": "python",
   "nbconvert_exporter": "python",
   "pygments_lexer": "ipython3",
   "version": "3.11.2"
  }
 },
 "nbformat": 4,
 "nbformat_minor": 2
}
