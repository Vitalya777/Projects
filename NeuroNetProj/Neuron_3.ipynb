{
 "cells": [
  {
   "cell_type": "code",
   "execution_count": 1,
   "metadata": {},
   "outputs": [],
   "source": [
    "import matplotlib.pyplot as plt\n",
    "import numpy as np"
   ]
  },
  {
   "cell_type": "code",
   "execution_count": 2,
   "metadata": {},
   "outputs": [],
   "source": [
    "def sigmoid(x):\n",
    "    return 1/(1+np.exp(-x))\n",
    "\n",
    "def deriv_sigmoid(x):\n",
    "    fx = sigmoid(x)\n",
    "    return fx * (1 - fx)\n",
    "\n",
    "def mse_loss(y_true,y_purp):\n",
    "    return ((y_true-y_purp)**2).mean()"
   ]
  },
  {
   "cell_type": "code",
   "execution_count": 3,
   "metadata": {},
   "outputs": [],
   "source": [
    "class Neuron:\n",
    "    def __init__(self,weights,bias):\n",
    "        self.weights = weights\n",
    "        self.bias = bias\n",
    "\n",
    "    def feedforward(self,x):\n",
    "        total = np.dot(self.weights,x) + self.bias\n",
    "        sig_total = sigmoid(total)\n",
    "        return [total,sig_total]"
   ]
  },
  {
   "cell_type": "code",
   "execution_count": 4,
   "metadata": {},
   "outputs": [],
   "source": [
    "class NeuralNetwork:\n",
    "    def __init__(self):\n",
    "        weights = [np.random.normal() for _ in range(10)]\n",
    "        bias = [np.random.normal() for _ in range(3)]\n",
    "        self.h1 = Neuron(weights[0:2],bias[0])\n",
    "        self.h2 = Neuron(weights[2:4],bias[1])\n",
    "        self.o1 = Neuron(weights[4:6],bias[2])\n",
    "\n",
    "    def feedforward(self,x):\n",
    "        h1 = self.h1.feedforward(x)\n",
    "        h2 = self.h2.feedforward(x)\n",
    "        o1 = self.o1.feedforward([h1[1],h2[1]])\n",
    "\n",
    "        return o1\n",
    "\n",
    "    def train(self, data, all_y_trues):\n",
    "        learn_rate = 0.1\n",
    "        epochs = 1000\n",
    "        for epoch in range(epochs):\n",
    "            for x, y_true in zip(data, all_y_trues):\n",
    "                h1 = self.h1.feedforward(x)\n",
    "                h2 = self.h2.feedforward(x)\n",
    "                o1 = self.o1.feedforward([h1[1],h2[1]])\n",
    "                y_pred = o1[1]\n",
    "                # Нейрон ol\n",
    "                d_L_d_ypred = -2*(y_true - y_pred)\n",
    "                d_ypred_d_w5 = h1[1] * deriv_sigmoid(o1[0])\n",
    "                d_ypred_d_w6 = h2[1] * deriv_sigmoid(o1[0])\n",
    "                d_ypred_d_b3 = deriv_sigmoid(o1[0])\n",
    "\n",
    "                d_ypred_d_h1 = self.o1.weights[0] * deriv_sigmoid(o1[0])\n",
    "                d_ypred_d_h2 = self.o1.weights[1] * deriv_sigmoid(o1[0])\n",
    "                # Нейрон hl\n",
    "                d_h1_d_w1 = x[0] * deriv_sigmoid(h1[0])\n",
    "                d_h1_d_w2 = x[1] * deriv_sigmoid(h1[0])\n",
    "                d_h1_d_b1 = deriv_sigmoid(h1[0])\n",
    "                # Нейрон h2\n",
    "                d_h2_d_w3 = x[0] * deriv_sigmoid(h2[0])\n",
    "                d_h2_d_w4 = x[1] * deriv_sigmoid(h2[0])\n",
    "                d_h2_d_b2 = deriv_sigmoid(h2[0])\n",
    "                # --- Обновляем вес и смещения\n",
    "                # Нейрон hl\n",
    "                self.h1.weights[0] -= learn_rate * d_L_d_ypred * d_ypred_d_h1 * d_h1_d_w1\n",
    "                self.h1.weights[1] -= learn_rate * d_L_d_ypred * d_ypred_d_h1 * d_h1_d_w2\n",
    "                self.h1.bias -= learn_rate * d_L_d_ypred * d_ypred_d_h1 * d_h1_d_b1\n",
    "                # Нейрон h2\n",
    "                self.h2.weights[0] -= learn_rate * d_L_d_ypred * d_ypred_d_h2 * d_h2_d_w3\n",
    "                self.h2.weights[1] -= learn_rate * d_L_d_ypred * d_ypred_d_h2 * d_h2_d_w4\n",
    "                self.h2.bias -= learn_rate * d_L_d_ypred * d_ypred_d_h2 * d_h2_d_b2\n",
    "                # Нейрон o1\n",
    "                self.o1.weights[0] -= learn_rate * d_L_d_ypred * d_ypred_d_w5\n",
    "                self.o1.weights[1] -= learn_rate * d_L_d_ypred * d_ypred_d_w6\n",
    "                self.o1.bias -= learn_rate * d_L_d_ypred * d_ypred_d_b3\n",
    "\n",
    "            if epoch % 100 == 0:\n",
    "                y_preds = np.apply_along_axis(self.feedforward,1,data)\n",
    "                first_elements = []\n",
    "                for row in y_preds:\n",
    "                    first_elements.append(row[1])\n",
    "                loss = mse_loss(all_y_trues,first_elements)\n",
    "                print(\"Epoch %d loss: %.3f\" % (epoch,loss))"
   ]
  },
  {
   "cell_type": "code",
   "execution_count": 5,
   "metadata": {},
   "outputs": [],
   "source": [
    "data = np.array([\n",
    "    [-2, -1], # alice\n",
    "    [25, 6], # bob\n",
    "    [17,4], # charlie\n",
    "    [-15,-6], # diana\n",
    "])\n",
    "all_y_trues = np.array([\n",
    "    1, # alice\n",
    "    0, # bob\n",
    "    0, # charlie\n",
    "    1, # diana\n",
    "])"
   ]
  },
  {
   "cell_type": "code",
   "execution_count": 6,
   "metadata": {},
   "outputs": [
    {
     "name": "stdout",
     "output_type": "stream",
     "text": [
      "Epoch 0 loss: 0.249\n",
      "Epoch 100 loss: 0.020\n",
      "Epoch 200 loss: 0.009\n",
      "Epoch 300 loss: 0.006\n",
      "Epoch 400 loss: 0.004\n",
      "Epoch 500 loss: 0.003\n",
      "Epoch 600 loss: 0.003\n",
      "Epoch 700 loss: 0.002\n",
      "Epoch 800 loss: 0.002\n",
      "Epoch 900 loss: 0.002\n"
     ]
    }
   ],
   "source": [
    "network = NeuralNetwork()\n",
    "network.train(data,all_y_trues)"
   ]
  },
  {
   "cell_type": "code",
   "execution_count": 7,
   "metadata": {},
   "outputs": [
    {
     "name": "stdout",
     "output_type": "stream",
     "text": [
      "Emily: 0.966\n",
      "Frank: 0.039\n"
     ]
    }
   ],
   "source": [
    "emily = np.array([-7,-3])\n",
    "frank = np.array([20,2])\n",
    "print(\"Emily: %.3f\" % network.feedforward(emily)[1])\n",
    "print(\"Frank: %.3f\" % network.feedforward(frank)[1])"
   ]
  }
 ],
 "metadata": {
  "kernelspec": {
   "display_name": ".venv",
   "language": "python",
   "name": "python3"
  },
  "language_info": {
   "codemirror_mode": {
    "name": "ipython",
    "version": 3
   },
   "file_extension": ".py",
   "mimetype": "text/x-python",
   "name": "python",
   "nbconvert_exporter": "python",
   "pygments_lexer": "ipython3",
   "version": "3.11.2"
  }
 },
 "nbformat": 4,
 "nbformat_minor": 2
}
