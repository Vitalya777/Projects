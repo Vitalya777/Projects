{
 "cells": [
  {
   "cell_type": "code",
   "execution_count": 6,
   "metadata": {},
   "outputs": [
    {
     "name": "stdout",
     "output_type": "stream",
     "text": [
      "5\n",
      "7\n",
      "9\n",
      "11\n",
      "13\n"
     ]
    }
   ],
   "source": [
    "a = 1\n",
    "b = 2\n",
    "c = a + b\n",
    "for i in range(5):\n",
    "    c = c + b\n",
    "    print(c)"
   ]
  },
  {
   "cell_type": "code",
   "execution_count": 7,
   "metadata": {},
   "outputs": [
    {
     "name": "stdout",
     "output_type": "stream",
     "text": [
      "Collecting sympy\n",
      "  Downloading sympy-1.13.3-py3-none-any.whl.metadata (12 kB)\n",
      "Collecting mpmath<1.4,>=1.1.0 (from sympy)\n",
      "  Downloading mpmath-1.3.0-py3-none-any.whl.metadata (8.6 kB)\n",
      "Downloading sympy-1.13.3-py3-none-any.whl (6.2 MB)\n",
      "   ---------------------------------------- 0.0/6.2 MB ? eta -:--:--\n",
      "   ---------------------------------------- 0.0/6.2 MB ? eta -:--:--\n",
      "   --- ------------------------------------ 0.5/6.2 MB 2.7 MB/s eta 0:00:03\n",
      "   -------- ------------------------------- 1.3/6.2 MB 3.2 MB/s eta 0:00:02\n",
      "   --------------- ------------------------ 2.4/6.2 MB 3.7 MB/s eta 0:00:02\n",
      "   -------------------- ------------------- 3.1/6.2 MB 3.7 MB/s eta 0:00:01\n",
      "   ----------------------- ---------------- 3.7/6.2 MB 3.4 MB/s eta 0:00:01\n",
      "   --------------------------- ------------ 4.2/6.2 MB 3.4 MB/s eta 0:00:01\n",
      "   --------------------------------- ------ 5.2/6.2 MB 3.5 MB/s eta 0:00:01\n",
      "   -------------------------------------- - 6.0/6.2 MB 3.6 MB/s eta 0:00:01\n",
      "   ---------------------------------------- 6.2/6.2 MB 3.6 MB/s eta 0:00:00\n",
      "Downloading mpmath-1.3.0-py3-none-any.whl (536 kB)\n",
      "   ---------------------------------------- 0.0/536.2 kB ? eta -:--:--\n",
      "   ---------------------------------------- 536.2/536.2 kB 3.6 MB/s eta 0:00:00\n",
      "Installing collected packages: mpmath, sympy\n",
      "Successfully installed mpmath-1.3.0 sympy-1.13.3\n",
      "Note: you may need to restart the kernel to use updated packages.\n"
     ]
    },
    {
     "name": "stderr",
     "output_type": "stream",
     "text": [
      "  WARNING: The script isympy.exe is installed in 'c:\\Users\\antseri\\AppData\\Local\\Programs\\Python\\Python313\\Scripts' which is not on PATH.\n",
      "  Consider adding this directory to PATH or, if you prefer to suppress this warning, use --no-warn-script-location.\n"
     ]
    }
   ],
   "source": [
    "%pip install sympy"
   ]
  },
  {
   "cell_type": "code",
   "execution_count": 8,
   "metadata": {},
   "outputs": [
    {
     "data": {
      "text/latex": [
       "$\\displaystyle \\frac{x \\left(x^{3} + 4 x^{2} + 6 x + 4\\right)}{4}$"
      ],
      "text/plain": [
       "x*(x**3 + 4*x**2 + 6*x + 4)/4"
      ]
     },
     "execution_count": 8,
     "metadata": {},
     "output_type": "execute_result"
    }
   ],
   "source": [
    "import sympy\n",
    "from sympy import simplify\n",
    "\n",
    "x,y,a,b = sympy.symbols('x y a b')\n",
    "f=a**3*x + 3*a**2*x**2/2 + a*x**3 + x**4/4\n",
    "simplify(f.subs(a,1))"
   ]
  }
 ],
 "metadata": {
  "kernelspec": {
   "display_name": "Python 3",
   "language": "python",
   "name": "python3"
  },
  "language_info": {
   "codemirror_mode": {
    "name": "ipython",
    "version": 3
   },
   "file_extension": ".py",
   "mimetype": "text/x-python",
   "name": "python",
   "nbconvert_exporter": "python",
   "pygments_lexer": "ipython3",
   "version": "3.13.1"
  }
 },
 "nbformat": 4,
 "nbformat_minor": 2
}
